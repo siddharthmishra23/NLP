{
  "cells": [
    {
      "cell_type": "markdown",
      "source": [
        "## Assignment - 2 Neural Chef Assistant\n",
        "\n",
        "## Student - ID 32304692"
      ],
      "metadata": {
        "id": "HdftbgqxbyJR"
      }
    },
    {
      "cell_type": "code",
      "execution_count": 2,
      "metadata": {
        "id": "VXScDaCSvjpe"
      },
      "outputs": [],
      "source": [
        "# importing libraries\n",
        "import torch\n",
        "from __future__ import unicode_literals, print_function, division\n",
        "from io import open\n",
        "import unicodedata\n",
        "import string\n",
        "import re\n",
        "import random\n",
        "import torch\n",
        "import torch.nn as nn\n",
        "from torch import optim\n",
        "import torch.nn.functional as F\n",
        "import tensorflow as tf\n",
        "from typing import List\n",
        "from tensorflow.python.eager.context import PhysicalDevice\n",
        "import numpy as np"
      ]
    },
    {
      "cell_type": "code",
      "execution_count": 3,
      "metadata": {
        "colab": {
          "base_uri": "https://localhost:8080/"
        },
        "id": "P84jgb-0uf8V",
        "outputId": "642762e5-a2c8-4292-dde7-b676aef93562"
      },
      "outputs": [
        {
          "output_type": "stream",
          "name": "stdout",
          "text": [
            "Mounted at /content/drive\n"
          ]
        }
      ],
      "source": [
        "# mounting google drive\n",
        "from google.colab import drive\n",
        "drive.mount('/content/drive')"
      ]
    },
    {
      "cell_type": "code",
      "execution_count": 4,
      "metadata": {
        "colab": {
          "base_uri": "https://localhost:8080/"
        },
        "id": "2CbJ0P2EwACx",
        "outputId": "82fe464e-0a1c-4c54-9a8a-0154dcbce6f4"
      },
      "outputs": [
        {
          "output_type": "execute_result",
          "data": {
            "text/plain": [
              "True"
            ]
          },
          "metadata": {},
          "execution_count": 4
        }
      ],
      "source": [
        "# checking is GPU is available\n",
        "torch.cuda.is_available()"
      ]
    },
    {
      "cell_type": "code",
      "source": [
        "# setting the growth GPU memory occupying and print devices\n",
        "try:\n",
        "    devices: List[PhysicalDevice] = tf.config.list_physical_devices('GPU')\n",
        "    for device in devices:\n",
        "        tf.config.experimental.set_memory_growth(device, True)\n",
        "    print(\"Use devices:\", list(map(lambda d: d.name, devices)))\n",
        "except IndexError:\n",
        "    print(\"Use CPU\")"
      ],
      "metadata": {
        "colab": {
          "base_uri": "https://localhost:8080/"
        },
        "id": "FBjhC4GKtGbm",
        "outputId": "22785f43-ab16-4c45-abb1-547583b224a7"
      },
      "execution_count": 5,
      "outputs": [
        {
          "output_type": "stream",
          "name": "stdout",
          "text": [
            "Use devices: ['/physical_device:GPU:0']\n"
          ]
        }
      ]
    },
    {
      "cell_type": "code",
      "execution_count": 6,
      "metadata": {
        "colab": {
          "base_uri": "https://localhost:8080/"
        },
        "id": "bLQcOxvPwGy2",
        "outputId": "0dce5241-5178-4edb-96c5-a5194e3136d3"
      },
      "outputs": [
        {
          "output_type": "execute_result",
          "data": {
            "text/plain": [
              "1"
            ]
          },
          "metadata": {},
          "execution_count": 6
        }
      ],
      "source": [
        "torch.cuda.device_count()"
      ]
    },
    {
      "cell_type": "markdown",
      "metadata": {
        "id": "pCkzf2LUX-wz"
      },
      "source": [
        "DATA PREPROCESSING"
      ]
    },
    {
      "cell_type": "code",
      "execution_count": 8,
      "metadata": {
        "id": "q0_cFhaPl3bD"
      },
      "outputs": [],
      "source": [
        "import os\n",
        "import re\n",
        "import string\n",
        "\n",
        "# Specify the directory you want to start from\n",
        "rootDirTrain = '/content/drive/MyDrive/Cooking_Dataset/train'\n",
        "rootDirDev = '/content/drive/MyDrive/Cooking_Dataset/dev'\n",
        "rootDirTest = '/content/drive/MyDrive/Cooking_Dataset/test'\n",
        "\n",
        "def make_list(path):\n",
        "  # Lists to hold all ingredients and recipes\n",
        "  ingredients = []\n",
        "  recipes = []\n",
        "\n",
        "  for dirName, subdirList, fileList in os.walk(path):\n",
        "    for fname in fileList:\n",
        "      if fname.endswith('.txt') or fname.endswith('.mmf') or fname.endswith('.TXT') or fname.endswith('.MMF'):\n",
        "        with open(os.path.join(dirName, fname), 'r') as f:\n",
        "          content = f.read()\n",
        "\n",
        "          # Match ingredients and recipes\n",
        "          matches = re.findall(r\"ingredients:(.*?)\\n(.*?)END RECIPE\", content, re.DOTALL)\n",
        "          if matches:\n",
        "            for match in matches:\n",
        "              # Clean and normalize ingredients\n",
        "              ingredients_text = match[0]\n",
        "              ingredients_text = ingredients_text.lower()  # Convert to lowercase\n",
        "              ingredients_text = ingredients_text.translate(str.maketrans('', '', string.punctuation))  # Remove punctuation\n",
        "              ingredients_text = ingredients_text.strip()  # Remove leading/trailing spaces\n",
        "              ingredients_text = re.sub(r'\\s+', ' ', ingredients_text)  # Remove extra whitespaces\n",
        "              ingredients.append(ingredients_text)\n",
        "\n",
        "              # Clean and normalize recipes\n",
        "              recipe_text = match[1]\n",
        "              recipe_text = recipe_text.lower()  # Convert to lowercase\n",
        "              recipe_text = recipe_text.translate(str.maketrans('', '', string.punctuation))  # Remove punctuation\n",
        "              recipe_text = recipe_text.strip()  # Remove leading/trailing spaces\n",
        "              recipe_text = re.sub(r'\\s+', ' ', recipe_text)  # Remove extra whitespaces\n",
        "              recipes.append(recipe_text)\n",
        "  return ingredients, recipes\n"
      ]
    },
    {
      "cell_type": "markdown",
      "source": [
        "To keep track of all this we will use a helper class called Lang which has word → index (word2index) and index → word (index2word) dictionaries, as well as a count of each word word2count"
      ],
      "metadata": {
        "id": "ly3lWAhkXwzb"
      }
    },
    {
      "cell_type": "code",
      "execution_count": 9,
      "metadata": {
        "id": "SYYF5jhgLAWG"
      },
      "outputs": [],
      "source": [
        "SOS_token = 0\n",
        "EOS_token = 1\n",
        "UNK_token = 2  # Unknown words\n",
        "\n",
        "class Lang:\n",
        "    def __init__(self, name):\n",
        "        self.name = name\n",
        "        self.word2index = {\"UNK\": UNK_token}  # Unknown words\n",
        "        self.word2count = {\"UNK\": 0}\n",
        "        self.index2word = {0: \"SOS\", 1: \"EOS\", 2: \"UNK\"}\n",
        "        self.n_words = 3  # Count SOS, EOS, UNK\n",
        "\n",
        "    def addSentence(self, sentence):\n",
        "        words = sentence.split()  # Split sentence into words\n",
        "        for word in words:\n",
        "            self.addWord(word)\n",
        "\n",
        "    def addWord(self, word):\n",
        "        if word not in self.word2index:\n",
        "            self.word2index[word] = self.n_words\n",
        "            self.word2count[word] = 1\n",
        "            self.index2word[self.n_words] = word\n",
        "            self.n_words += 1\n",
        "        else:\n",
        "            self.word2count[word] += 1"
      ]
    },
    {
      "cell_type": "markdown",
      "source": [
        "All files are in Unicode, to simplify, we will turn Unicode characters to ASCII, make everything lowercase, and trim most punctuation."
      ],
      "metadata": {
        "id": "5gIwujnAX29L"
      }
    },
    {
      "cell_type": "code",
      "execution_count": 10,
      "metadata": {
        "id": "YgzdmGV0MBAy"
      },
      "outputs": [],
      "source": [
        "def unicodeToAscii(s):\n",
        "    return ''.join(\n",
        "        c for c in unicodedata.normalize('NFD', s)\n",
        "        if unicodedata.category(c) != 'Mn'\n",
        "    )\n",
        "\n",
        "# Lowercase, trim, and remove non-letter characters\n",
        "\n",
        "\n",
        "def normalizeString(s):\n",
        "    s = unicodeToAscii(s.lower().strip())\n",
        "    s = re.sub(r\"([.!?])\", r\" \\1\", s)\n",
        "    s = re.sub(r\"[^a-zA-Z0-9.!?]+\", r\" \", s)\n",
        "    return s"
      ]
    },
    {
      "cell_type": "markdown",
      "source": [
        "we’ll trim the data set to only relatively short and simple sentences. Here, the maximum length is 150 words (that includes ending punctuation) and the filter considers sentences that translate to the form “I am” or “He is” etc. (accounting for apostrophes replaced earlier)."
      ],
      "metadata": {
        "id": "hmcfZV4UYArk"
      }
    },
    {
      "cell_type": "code",
      "execution_count": 11,
      "metadata": {
        "id": "iEphMWHfMkgy"
      },
      "outputs": [],
      "source": [
        "import random\n",
        "MAX_LENGTH = 150\n",
        "\n",
        "def filterPair(pair):\n",
        "    return len(pair[0].split(\" \")) <= MAX_LENGTH and len(pair[1].split(\" \")) <= MAX_LENGTH\n",
        "\n",
        "def filterPairs(pairs):\n",
        "    return [pair for pair in pairs if filterPair(pair)]\n",
        "\n",
        "def prepareData(ingredients, recipes, train_percent=0.7):\n",
        "    ingredients = [normalizeString(ingr) for ingr in ingredients]\n",
        "    recipes = [normalizeString(rec) for rec in recipes]\n",
        "    pairs = list(zip(ingredients, recipes))\n",
        "\n",
        "    print(\"Original:\", len(pairs))\n",
        "    pairs = filterPairs(pairs)\n",
        "    print(\"Filtered:\", len(pairs))\n",
        "\n",
        "    # Randomly sample a percentage of data for training\n",
        "    random.shuffle(pairs)\n",
        "    train_size = int(len(pairs) * train_percent)\n",
        "    train_pairs = pairs[:train_size]\n",
        "    print(\"after sampling \", len(train_pairs))\n",
        "    input_lang = Lang('ingredients')\n",
        "    output_lang = Lang('recipes')\n",
        "    for pair in train_pairs:\n",
        "        input_lang.addSentence(pair[0])\n",
        "        output_lang.addSentence(pair[1])\n",
        "\n",
        "    print(\"Counted words:\")\n",
        "    print(input_lang.name, input_lang.n_words)\n",
        "    print(output_lang.name, output_lang.n_words)\n",
        "\n",
        "    return input_lang, output_lang, train_pairs\n",
        "\n",
        "\n"
      ]
    },
    {
      "cell_type": "markdown",
      "source": [
        "Calling method to generate data"
      ],
      "metadata": {
        "id": "A5lOxADHYEbR"
      }
    },
    {
      "cell_type": "code",
      "execution_count": 12,
      "metadata": {
        "id": "RumaWVvqTp4N"
      },
      "outputs": [],
      "source": [
        "ingredientsTrain, recipesTrain = make_list(rootDirTrain)\n",
        "ingredientsDev, recipesDev  = make_list(rootDirDev)\n",
        "ingredientsTest, recipesTest  = make_list(rootDirTest)"
      ]
    },
    {
      "cell_type": "markdown",
      "source": [
        "Displaying the dataset count before and after filtering"
      ],
      "metadata": {
        "id": "a4HDQr7VYIEF"
      }
    },
    {
      "cell_type": "code",
      "execution_count": 13,
      "metadata": {
        "colab": {
          "base_uri": "https://localhost:8080/"
        },
        "id": "LqifeRZsTlN5",
        "outputId": "b4c62964-ca87-48cc-d23a-54cbb925091b"
      },
      "outputs": [
        {
          "output_type": "stream",
          "name": "stdout",
          "text": [
            "Train data--------------\n",
            "Original: 143907\n",
            "Filtered: 123758\n",
            "after sampling  74254\n",
            "Counted words:\n",
            "ingredients 20979\n",
            "recipes 33924\n",
            "Dev data----------------\n",
            "Original: 1000\n",
            "Filtered: 868\n",
            "after sampling  86\n",
            "Counted words:\n",
            "ingredients 648\n",
            "recipes 1203\n",
            "Test Data-------------\n",
            "Original: 1000\n",
            "Filtered: 870\n",
            "after sampling  87\n",
            "Counted words:\n",
            "ingredients 658\n",
            "recipes 1144\n"
          ]
        }
      ],
      "source": [
        "print(\"Train data--------------\")\n",
        "input_lang_train, output_lang_train, pairs_train = prepareData(ingredientsTrain, recipesTrain, .6)\n",
        "print(\"Dev data----------------\")\n",
        "input_lang_dev, output_lang_dev, pairs_dev = prepareData(ingredientsDev, recipesDev, .1)\n",
        "print(\"Test Data-------------\")\n",
        "input_lang_test, output_lang_test, pairs_test = prepareData(ingredientsTest, recipesTest, .1)"
      ]
    },
    {
      "cell_type": "code",
      "execution_count": 14,
      "metadata": {
        "colab": {
          "base_uri": "https://localhost:8080/"
        },
        "id": "lCPc-nkkH_jr",
        "outputId": "4edc3488-612e-4095-a1a5-7479d831f021"
      },
      "outputs": [
        {
          "output_type": "execute_result",
          "data": {
            "text/plain": [
              "('3 lb chuck short ribs 1 12 c hot water 34 c unbleached allpurpose flour 8 ea heaping t dark brown sugar 2 ts seasoned salt 13 c catsup 1 ts pepper 14 c red wine vinegar 12 c cooking oil 2 ea cloves garlic minced 2 c sliced onion 2 ea large bay leaves',\n",
              " 'trim excess fat from short ribs combine flour seasoned salt and pepper dredge shrot ribs brown ribs in oil on all sides in dutch oven remove meat from pan add onions and cook until golden brown place ribs on top of onions combine water brown sugar catsup vinegar garlic and bay leaves pour over ribs cover and bake in moderate oven lrb 350 degrees f rrb 212 hours remove bay leaves before serving')"
            ]
          },
          "metadata": {},
          "execution_count": 14
        }
      ],
      "source": [
        "pairs_train[0]"
      ]
    },
    {
      "cell_type": "markdown",
      "source": [
        "This is a helper function to print time elapsed and estimated time remaining given the current time and progress %."
      ],
      "metadata": {
        "id": "zdLKm4jUYNQp"
      }
    },
    {
      "cell_type": "code",
      "source": [
        "import time\n",
        "import math\n",
        "\n",
        "def asMinutes(s):\n",
        "    m = math.floor(s / 60)\n",
        "    s -= m * 60\n",
        "    return '%dm %ds' % (m, s)\n",
        "\n",
        "def timeSince(since, percent):\n",
        "    now = time.time()\n",
        "    s = now - since\n",
        "    es = s / (percent)\n",
        "    rs = es - s\n",
        "    return '%s (- %s)' % (asMinutes(s), asMinutes(rs))"
      ],
      "metadata": {
        "id": "RYp8zgOBx4DN"
      },
      "execution_count": 15,
      "outputs": []
    },
    {
      "cell_type": "code",
      "source": [
        "# Specify the device\n",
        "device = torch.device('cuda' if torch.cuda.is_available() else 'cpu')"
      ],
      "metadata": {
        "id": "m57s_HPVyBY9"
      },
      "execution_count": 16,
      "outputs": []
    },
    {
      "cell_type": "markdown",
      "source": [
        "#### Preparing Training data\n",
        "To train, for each pair we will need an input tensor (indexes of the words in the input sentence) and target tensor (indexes of the words in the target sentence). While creating these vectors we will append the EOS token to both sequences."
      ],
      "metadata": {
        "id": "DC6YwAnbYVEY"
      }
    },
    {
      "cell_type": "code",
      "source": [
        "def indexesFromSentence(lang, sentence):\n",
        "    return [lang.word2index.get(word, UNK_token) for word in sentence.split(' ') if word.strip() != '']\n",
        "\n",
        "\n",
        "def tensorFromSentence(lang, sentence):\n",
        "    \n",
        "    indexes = indexesFromSentence(lang, sentence)\n",
        "    indexes.append(EOS_token)\n",
        "    return torch.tensor(indexes, dtype=torch.long, device=device).view(-1, 1)\n",
        "\n",
        "\n",
        "def tensorsFromPair(input_lang, output_lang, pair):\n",
        "    input_tensor = tensorFromSentence(input_lang, pair[0])\n",
        "    target_tensor = tensorFromSentence(output_lang, pair[1])\n",
        "    return (input_tensor, target_tensor)\n"
      ],
      "metadata": {
        "id": "5EEJ2KcCyIQe"
      },
      "execution_count": 17,
      "outputs": []
    },
    {
      "cell_type": "code",
      "source": [
        "# Set the hyperparameters\n",
        "hidden_size = 256\n",
        "teacher_forcing_ratio = 1\n",
        "dropout_rate = 0.1\n",
        "max_length = 150\n",
        "learning_rate = 0.01\n",
        "batch_size = 32"
      ],
      "metadata": {
        "id": "at9sZXtLyPI8"
      },
      "execution_count": 18,
      "outputs": []
    },
    {
      "cell_type": "code",
      "source": [
        "import matplotlib.pyplot as plt\n",
        "plt.switch_backend('agg')\n",
        "import matplotlib.ticker as ticker\n",
        "import numpy as np\n",
        "%matplotlib inline\n",
        "    \n",
        "def showPlot(points):\n",
        "    plt.figure()\n",
        "    fig, ax = plt.subplots()\n",
        "    # this locator puts ticks at regular intervals\n",
        "    loc = ticker.MultipleLocator(base=0.2)\n",
        "    ax.yaxis.set_major_locator(loc)\n",
        "    plt.plot(points)"
      ],
      "metadata": {
        "id": "t5vNs1omyYDX"
      },
      "execution_count": 19,
      "outputs": []
    },
    {
      "cell_type": "markdown",
      "metadata": {
        "id": "qKmzr6C2S4GK"
      },
      "source": [
        "### BASELINE MODEL 1 Seq2Seq without Attention"
      ]
    },
    {
      "cell_type": "markdown",
      "source": [
        "Encoder"
      ],
      "metadata": {
        "id": "f0H17TVzYeVf"
      }
    },
    {
      "cell_type": "code",
      "execution_count": 20,
      "metadata": {
        "id": "NQQnWBtONERf"
      },
      "outputs": [],
      "source": [
        "import torch\n",
        "import torch.nn as nn\n",
        "import torch.optim as optim\n",
        "from torch.utils.data import Dataset, DataLoader\n",
        "\n",
        "# Define the Encoder class\n",
        "class Encoder(nn.Module):\n",
        "    def __init__(self, input_size, hidden_size, dropout_rate):\n",
        "        super(Encoder, self).__init__()\n",
        "        self.hidden_size = hidden_size\n",
        "\n",
        "        self.embedding = nn.Embedding(input_size, hidden_size)\n",
        "        self.dropout = nn.Dropout(dropout_rate)\n",
        "        self.lstm = nn.LSTM(hidden_size, hidden_size)\n",
        "\n",
        "    def forward(self, input, hidden, cell):\n",
        "        embedded = self.embedding(input).view(1, 1, -1)\n",
        "        embedded = self.dropout(embedded)\n",
        "        output, (hidden, cell) = self.lstm(embedded, (hidden, cell))\n",
        "        return output, hidden, cell\n",
        "\n",
        "    def init_hidden(self):\n",
        "        return (torch.zeros(1, 1, self.hidden_size, device=device),\n",
        "                torch.zeros(1, 1, self.hidden_size, device=device))"
      ]
    },
    {
      "cell_type": "markdown",
      "source": [
        "Decoder"
      ],
      "metadata": {
        "id": "hphJ2yoBYgIA"
      }
    },
    {
      "cell_type": "code",
      "execution_count": 21,
      "metadata": {
        "id": "lJJ8cj8-Pzef"
      },
      "outputs": [],
      "source": [
        "class Decoder(nn.Module):\n",
        "    def __init__(self, hidden_size, output_size, dropout_rate):\n",
        "        super(Decoder, self).__init__()\n",
        "        self.hidden_size = hidden_size\n",
        "\n",
        "        self.embedding = nn.Embedding(output_size, hidden_size)\n",
        "        self.dropout = nn.Dropout(dropout_rate)\n",
        "        self.lstm = nn.LSTM(hidden_size, hidden_size, dropout=dropout_rate)\n",
        "        self.out = nn.Linear(hidden_size, output_size)\n",
        "        self.softmax = nn.LogSoftmax(dim=1)\n",
        "\n",
        "    def forward(self, input, hidden, cell):\n",
        "        output = self.embedding(input).view(1, 1, -1)\n",
        "        output = self.dropout(output)\n",
        "        output, (hidden, cell) = self.lstm(output, (hidden, cell))\n",
        "        output = self.softmax(self.out(output[0]))\n",
        "        return output, hidden, cell\n",
        "\n",
        "    def init_Hidden(self):\n",
        "        return (torch.zeros(1, 1, self.hidden_size, device=device),\n",
        "                torch.zeros(1, 1, self.hidden_size, device=device))"
      ]
    },
    {
      "cell_type": "markdown",
      "source": [
        "Training the model"
      ],
      "metadata": {
        "id": "oXym42gdYkHq"
      }
    },
    {
      "cell_type": "code",
      "execution_count": 22,
      "metadata": {
        "id": "jQZNdv8h3rgR"
      },
      "outputs": [],
      "source": [
        "import time\n",
        "import random\n",
        "import numpy as np\n",
        "import torch\n",
        "import torch.nn as nn\n",
        "import torch.optim as optim\n",
        "import torch.nn.functional as F\n",
        "\n",
        "def train(input_tensor, target_tensor, encoder, decoder, encoder_optimizer, decoder_optimizer, criterion):\n",
        "    encoder_hidden, encoder_cell = encoder.init_hidden()\n",
        "\n",
        "    encoder_optimizer.zero_grad()\n",
        "    decoder_optimizer.zero_grad()\n",
        "\n",
        "    input_length = input_tensor.size(0)\n",
        "    target_length = target_tensor.size(0)\n",
        "\n",
        "    encoder_outputs = torch.zeros(input_length, encoder.hidden_size, device=device)\n",
        "\n",
        "    loss = 0\n",
        "\n",
        "    for ei in range(input_length):\n",
        "        encoder_output, encoder_hidden, encoder_cell = encoder(input_tensor[ei], encoder_hidden, encoder_cell)\n",
        "        encoder_outputs[ei] = encoder_output[0, 0]\n",
        "\n",
        "    decoder_input = torch.tensor([[SOS_token]], device=device)\n",
        "\n",
        "    decoder_hidden = encoder_hidden\n",
        "    decoder_cell = encoder_cell\n",
        "\n",
        "    use_teacher_forcing = True if random.random() < teacher_forcing_ratio else False\n",
        "\n",
        "    if use_teacher_forcing:\n",
        "        # Teacher forcing: Feed the target as the next input\n",
        "        for di in range(target_length):\n",
        "            decoder_output, decoder_hidden, decoder_cell = decoder(decoder_input, decoder_hidden, decoder_cell)\n",
        "            loss += criterion(decoder_output, target_tensor[di])\n",
        "            decoder_input = target_tensor[di]  # Teacher forcing\n",
        "\n",
        "    else:\n",
        "        # Without teacher forcing: use its own predictions as the next input\n",
        "        for di in range(target_length):\n",
        "            decoder_output, decoder_hidden, decoder_cell = decoder(decoder_input, decoder_hidden, decoder_cell)\n",
        "            topv, topi = decoder_output.topk(1)\n",
        "            decoder_input = topi.squeeze().detach()  # detach from history as input\n",
        "\n",
        "            loss += criterion(decoder_output, target_tensor[di])\n",
        "            if decoder_input.item() == EOS_token:\n",
        "                break\n",
        "\n",
        "    loss.backward()\n",
        "\n",
        "    encoder_optimizer.step()\n",
        "    decoder_optimizer.step()\n",
        "\n",
        "    return loss.item() / target_length"
      ]
    },
    {
      "cell_type": "markdown",
      "source": [
        "The whole training process looks like this:\n",
        "\n",
        "- Start a timer\n",
        "- Initialize optimizers and criterion\n",
        "- Create set of training pairs\n",
        "- Start empty losses array for plotting\n",
        "\n",
        "Then we call `train` many times and occasionally print the progress (% of examples, time so far, estimated time) and average loss."
      ],
      "metadata": {
        "id": "EQYUHVH8Ymxs"
      }
    },
    {
      "cell_type": "code",
      "execution_count": 23,
      "metadata": {
        "id": "9d8EBqrklXva"
      },
      "outputs": [],
      "source": [
        "def trainIters(encoder, decoder, n_iters, input_lang, output_lang, train_pairs, dev_pairs, print_every=1000, plot_every=100):\n",
        "    start = time.time()\n",
        "    plot_losses = []\n",
        "    print_loss_total = 0  # Reset every print_every\n",
        "    plot_loss_total = 0  # Reset every plot_every\n",
        "\n",
        "    encoder_optimizer = optim.Adam(encoder.parameters(), lr=learning_rate)\n",
        "    decoder_optimizer = optim.Adam(decoder.parameters(), lr=learning_rate)\n",
        "    training_pairs = [tensorsFromPair(input_lang, output_lang, random.choice(train_pairs))\n",
        "                      for i in range(n_iters)]\n",
        "    criterion = nn.NLLLoss()\n",
        "    \n",
        "    dev_loss_list = []\n",
        "    for iter in range(1, n_iters + 1):\n",
        "        training_pair = training_pairs[iter - 1]\n",
        "        input_tensor = training_pair[0]\n",
        "        target_tensor = training_pair[1]\n",
        "\n",
        "        loss = train(input_tensor, target_tensor, encoder,\n",
        "                     decoder, encoder_optimizer, decoder_optimizer, criterion)\n",
        "        \n",
        "        print_loss_total += loss\n",
        "        plot_loss_total += loss\n",
        "        \n",
        "        if iter % print_every == 0:\n",
        "            print_loss_avg = print_loss_total / print_every\n",
        "            print_loss_total = 0\n",
        "            \n",
        "            \n",
        "            # Calculate loss on dev set\n",
        "            dev_loss = 0\n",
        "            for dev_pair in dev_pairs:\n",
        "                input_tensor = tensorFromSentence(input_lang, dev_pair[0])\n",
        "                target_tensor = tensorFromSentence(output_lang, dev_pair[1])\n",
        "                loss = evaluate_dev_1(input_tensor, target_tensor, encoder, decoder, criterion)\n",
        "                \n",
        "                dev_loss += loss\n",
        "            dev_loss_avg = dev_loss / len(dev_pairs)\n",
        "            \n",
        "            print('%s (%d %d%%) %.4f' % (timeSince(start, iter / n_iters),\n",
        "                                         iter, iter / n_iters * 100, print_loss_avg))\n",
        "            print('Dev loss: %.4f' % dev_loss_avg)\n",
        "\n",
        "        if iter % plot_every == 0:\n",
        "            plot_loss_avg = plot_loss_total / plot_every\n",
        "            plot_losses.append(plot_loss_avg)\n",
        "            plot_loss_total = 0\n",
        "            dev_loss = 0\n",
        "            for dev_pair in dev_pairs:\n",
        "                input_tensor = tensorFromSentence(input_lang, dev_pair[0])\n",
        "                target_tensor = tensorFromSentence(output_lang, dev_pair[1])\n",
        "                loss = evaluate_dev_1(input_tensor, target_tensor, encoder, decoder, criterion)\n",
        "                \n",
        "                dev_loss += loss\n",
        "            dev_loss_avg = dev_loss / len(dev_pairs)\n",
        "            dev_loss_list.append(dev_loss_avg)\n",
        "\n",
        "    showPlot(plot_losses)\n",
        "    return plot_losses, dev_loss_list"
      ]
    },
    {
      "cell_type": "markdown",
      "source": [
        "### Evaluation"
      ],
      "metadata": {
        "id": "Xh8E18IoY9p7"
      }
    },
    {
      "cell_type": "markdown",
      "source": [
        "Method to calculate the development loss"
      ],
      "metadata": {
        "id": "kdbCnkQ7YvEH"
      }
    },
    {
      "cell_type": "code",
      "source": [
        "def evaluate_dev_1(input_tensor, target_tensor, encoder, decoder, criterion):\n",
        "    with torch.no_grad():\n",
        "        encoder_hidden, encoder_cell = encoder.init_hidden()\n",
        "        input_length = input_tensor.size(0)\n",
        "        target_length = target_tensor.size(0)\n",
        "        encoder_outputs = torch.zeros(input_length, encoder.hidden_size, device=device)\n",
        "        loss = 0\n",
        "\n",
        "        for ei in range(input_length):\n",
        "            encoder_output, encoder_hidden, encoder_cell = encoder(input_tensor[ei], encoder_hidden, encoder_cell)\n",
        "            encoder_outputs[ei] = encoder_output[0, 0]\n",
        "\n",
        "        decoder_input = torch.tensor([[SOS_token]], device=device)\n",
        "        decoder_hidden = encoder_hidden\n",
        "        decoder_cell = encoder_cell\n",
        "\n",
        "        for di in range(target_length):\n",
        "            decoder_output, decoder_hidden, decoder_cell = decoder(decoder_input, decoder_hidden, decoder_cell)\n",
        "            topv, topi = decoder_output.topk(1)\n",
        "            if topi.squeeze().detach().item() == EOS_token:\n",
        "                break\n",
        "\n",
        "            decoder_input = topi.squeeze().detach()\n",
        "            loss += criterion(decoder_output, target_tensor[di])\n",
        "\n",
        "        return loss.item() / target_length"
      ],
      "metadata": {
        "id": "KQZbAw9ohchP"
      },
      "execution_count": 24,
      "outputs": []
    },
    {
      "cell_type": "markdown",
      "source": [
        "Method to get the decoded sentence"
      ],
      "metadata": {
        "id": "5bDg5a0rYz4N"
      }
    },
    {
      "cell_type": "code",
      "execution_count": 25,
      "metadata": {
        "id": "dKEu4-hsI_VW"
      },
      "outputs": [],
      "source": [
        "def evaluate1(encoder, decoder, input_lang, output_lang, pair, max_length=MAX_LENGTH):\n",
        "    with torch.no_grad():\n",
        "        input_tensor = tensorFromSentence(input_lang, pair)\n",
        "        input_length = input_tensor.size(0)\n",
        "        encoder_hidden, encoder_cell = encoder.init_hidden()\n",
        "\n",
        "        encoder_outputs = torch.zeros(max_length, encoder.hidden_size, device=device)\n",
        "\n",
        "        for ei in range(input_length):\n",
        "            encoder_output, encoder_hidden, encoder_cell = encoder(input_tensor[ei], encoder_hidden, encoder_cell)\n",
        "            encoder_outputs[ei] = encoder_output[0, 0]\n",
        "\n",
        "        decoder_input = torch.tensor([[SOS_token]], device=device)\n",
        "        decoder_hidden = encoder_hidden\n",
        "        decoder_cell = encoder_cell\n",
        "\n",
        "        decoded_words = []\n",
        "        decoder_attentions = torch.zeros(max_length, max_length)\n",
        "\n",
        "        for di in range(max_length):\n",
        "            decoder_output, decoder_hidden, decoder_cell = decoder(decoder_input, decoder_hidden, decoder_cell)\n",
        "            topv, topi = decoder_output.data.topk(1)\n",
        "            if topi.item() == EOS_token:\n",
        "                decoded_words.append('<EOS>')\n",
        "                break\n",
        "            else:\n",
        "                decoded_words.append(output_lang.index2word[topi.item()])\n",
        "\n",
        "            decoder_input = topi.squeeze().detach()\n",
        "\n",
        "        return decoded_words"
      ]
    },
    {
      "cell_type": "markdown",
      "source": [
        "Randomly generating prediction"
      ],
      "metadata": {
        "id": "89ghk9N4Y6ml"
      }
    },
    {
      "cell_type": "code",
      "execution_count": 26,
      "metadata": {
        "id": "mcFf7-BJJDU6"
      },
      "outputs": [],
      "source": [
        "def evaluateRandomly(encoder, decoder,input_lang, output_lang, pairs, n=10):\n",
        "    for i in range(n):\n",
        "        pair = random.choice(pairs)\n",
        "        print('>', pair[0])\n",
        "        print('=', pair[1])\n",
        "        output_words= evaluate1(encoder, decoder,input_lang, output_lang, pair[0])\n",
        "        output_sentence = ' '.join(output_words)\n",
        "        print('<', output_sentence)\n",
        "        print('')"
      ]
    },
    {
      "cell_type": "markdown",
      "source": [
        "#### Training and Evaluating"
      ],
      "metadata": {
        "id": "3MP7jnYRZHCs"
      }
    },
    {
      "cell_type": "code",
      "execution_count": 27,
      "metadata": {
        "colab": {
          "base_uri": "https://localhost:8080/",
          "height": 846
        },
        "id": "jsw7aIXrJG9Z",
        "outputId": "7c0eb7dd-3c60-4e3c-fb3e-4cb47e67c2c1"
      },
      "outputs": [
        {
          "output_type": "stream",
          "name": "stderr",
          "text": [
            "/usr/local/lib/python3.10/dist-packages/torch/nn/modules/rnn.py:71: UserWarning: dropout option adds dropout after all but last recurrent layer, so non-zero dropout expects num_layers greater than 1, but got dropout=0.1 and num_layers=1\n",
            "  warnings.warn(\"dropout option adds dropout after all but last \"\n"
          ]
        },
        {
          "output_type": "stream",
          "name": "stdout",
          "text": [
            "11m 49s (- 106m 24s) (4000 10%) 5.2103\n",
            "Dev loss: 7.9028\n",
            "23m 34s (- 94m 17s) (8000 20%) 4.8317\n",
            "Dev loss: 5.4374\n",
            "35m 12s (- 82m 10s) (12000 30%) 4.7865\n",
            "Dev loss: 8.6253\n",
            "46m 46s (- 70m 9s) (16000 40%) 4.7597\n",
            "Dev loss: 3.0855\n",
            "58m 18s (- 58m 18s) (20000 50%) 4.7508\n",
            "Dev loss: 8.6230\n",
            "70m 0s (- 46m 40s) (24000 60%) 4.7371\n",
            "Dev loss: 9.0366\n",
            "81m 36s (- 34m 58s) (28000 70%) 4.7405\n",
            "Dev loss: 7.9268\n",
            "93m 24s (- 23m 21s) (32000 80%) 4.7786\n",
            "Dev loss: 9.0590\n",
            "105m 13s (- 11m 41s) (36000 90%) 4.7451\n",
            "Dev loss: 9.1296\n",
            "117m 1s (- 0m 0s) (40000 100%) 4.8217\n",
            "Dev loss: 9.3941\n"
          ]
        },
        {
          "output_type": "display_data",
          "data": {
            "text/plain": [
              "<Figure size 640x480 with 0 Axes>"
            ]
          },
          "metadata": {}
        },
        {
          "output_type": "display_data",
          "data": {
            "text/plain": [
              "<Figure size 640x480 with 1 Axes>"
            ],
            "image/png": "[encoded data removed]"
          },
          "metadata": {}
        }
      ],
      "source": [
        "hidden_size = 256\n",
        "encoder1 = Encoder(input_lang_train.n_words, hidden_size, dropout_rate).to(device)\n",
        "decoder1 = Decoder(hidden_size, output_lang_train.n_words, dropout_rate).to(device)\n",
        "model_train_1, model_dev_1 = trainIters(encoder1, decoder1, 40000, input_lang_train, output_lang_train, pairs_train, pairs_dev, print_every=4000, plot_every=4000)\n"
      ]
    },
    {
      "cell_type": "code",
      "execution_count": 28,
      "metadata": {
        "id": "T0Wew69IJJ-D",
        "colab": {
          "base_uri": "https://localhost:8080/"
        },
        "outputId": "753599e2-fc46-424b-a0ba-a98677f116d9"
      },
      "outputs": [
        {
          "output_type": "stream",
          "name": "stdout",
          "text": [
            "> 3 tb butter 4 tb flour 1 c brown sugar 1 egg 1 c milk 1 ts vanilla 1 baked pastry shell whipped cream\n",
            "= cream butter flour and sugar together beat egg add milk and add to creamed mixture cook in top of double boiler until thickened stirring constantly cool and add vanilla pour into pastry shell and chill spread with the whipped cream before serving\n",
            "< in a large bowl combine all ingredients and salt in a large bowl combine all ingredients and cook for 5 minutes or until smooth add the remaining ingredients and water to the butter and salt in a large bowl combine all ingredients and cook for 5 minutes or until smooth add the remaining ingredients and cook for 5 minutes or until smooth add the remaining ingredients and cook for 5 minutes or until smooth add the remaining ingredients and cook for 5 minutes or until smooth add the flour and cook for 5 minutes or until smooth add the flour and cook for 5 minutes or until smooth add the remaining ingredients and cook for 5 minutes or until smooth add the flour and cook for 5 minutes or until smooth add the remaining ingredients and cook for 5 minutes or until smooth add the remaining ingredients and cook for\n",
            "\n",
            "> 2 c tomato juice 1 ts salt 12 c tomato sauce 34 ts oregano 2 tb olive oil 12 ts dry basil 6 12 c flour 14 ts rosemary 2 pk active dry yeast 14 ts pepper 3 tb brown sugar 2 cloves crushed garlic\n",
            "= lightly grease large bowl and two loaf pans with olive oil in small saucepan heat juice sauce and 2 tbsp olive oil to 120 f combine 3 cups flour with yeast and remaining ingedients pour in tomatoe mix and beat 3 minutes gradually add remaining flour mixing by hand if necessary until it holds together enough to turn out on floured surface knead about 5 minutes until dough smooths out place in greased bowl cover and let rise 1 hour punch dough down let rest 15 minutes then shape into 2 loaves and place in pans cover pans and let rise 45 minutespreheat oven to 375 f bake loaves 10 minutes reduce heat to 350 f and bake 3040 minutes longerbread is done when loaf sounds hollow when thumped with knuckle tip loaves out immediately onto wire rack to cool\n",
            "< in a large bowl combine all ingredients and salt in a large bowl combine all ingredients and cook for 5 minutes or until smooth add the remaining ingredients and cook for 5 minutes or until smooth add the remaining ingredients and cook for 5 minutes or until smooth add the remaining ingredients and cook for 5 minutes or until smooth add the remaining ingredients and cook for 5 minutes or until smooth add the remaining ingredients and cook for 5 minutes or until smooth add the remaining ingredients and cook for 5 minutes or until smooth add the remaining ingredients and cook for 5 minutes or until smooth add the remaining ingredients and cook for 5 minutes or until smooth add the remaining ingredients and cook for 5 minutes or until smooth add the remaining ingredients and cook for 5 minutes or until smooth add the remaining ingredients and cook\n",
            "\n",
            "> 5 lb trimmed brisket salt pepper 14 c liquid smoke 12 c brown sugar 1 ts garlic powder 13 c vinegar 1 ts onion salt 14 c catsup 2 ts celery seed 4 ds worchestershire sauce 2 ts worchestershire sauce 6 ds soy sauce\n",
            "= combine liquid smoke salts garlic celery seed and 2 tsp worchestershire marinate brisket in this overnight line broiler pan with foil place meat in this seal in foil combine brown sugar vinegar catsup worchestershire sauce and soy sauce open foil and drain grease from pan pour sauce over meat wrap foil loosely and cook another 112 hours\n",
            "< in a large bowl combine all ingredients and salt in a large bowl combine all ingredients and cook for 5 minutes or until smooth add the flour and cook for 5 minutes or until smooth add the remaining ingredients and cook for 5 minutes or until smooth add the flour and cook for 5 minutes or until smooth add the flour and cook for 5 minutes or until smooth add the remaining ingredients and cook for 5 minutes or until smooth add the remaining ingredients and cook for 5 minutes or until smooth add the remaining ingredients except and cook for 5 minutes or until smooth add the remaining ingredients and cook for 5 minutes or until smooth add the remaining ingredients and cook for 5 minutes or until smooth add the remaining ingredients and cook for 5 minutes or until smooth add the remaining ingredients and cook for 5\n",
            "\n",
            "> 12 c cocoa 1 tb flour unbleached 14 c dark brown sugar packed 4 c milk 3 ea cloves whole 1 ea cinnamon stickbroken in 12 2 tb powdered sugar 1 12 ts vanilla 1 x whipped cream 4 ea cinnamon sticks\n",
            "= mix cocoa and flour in 2quart saucepan stir in brown sugar milk cloves and 1 stick cinnamon heat just to boiling over medium heat stirring constantly reduce heat remove from heat remove cloves and cinnamon stir in powdered sugar and vanilla beat with molinillo wire whisk or hand beater until foamy pour into 4 cups or mugs serve with whipped cream and cinnamon sticks\n",
            "< in a large bowl combine all ingredients and salt in a large bowl combine all ingredients and cook for 5 minutes or until smooth add the remaining ingredients and cook for 5 minutes or until smooth add the remaining ingredients and cook for 5 minutes or until smooth add the remaining ingredients and cook for 5 minutes or until smooth add the flour and cook for 5 minutes or until smooth add the remaining ingredients and cook for 5 minutes or until smooth add the flour and cook for 5 minutes or until smooth add the remaining ingredients and cook for 5 minutes or until smooth add the remaining ingredients and cook for 5 minutes or until smooth add the remaining ingredients and cook for 5 minutes or until smooth add the flour and cook for 5 minutes or until smooth add the flour and cook for 5 minutes or\n",
            "\n",
            "> 1 c vegetable juice cocktail 2 tb red wine vinegar 2 ts hot sauce 12 ts oregano 1 cl garlic 4 skinned drumsticks 1 2 lb 2 tb chopped celery 2 tb diced green bell pepper 2 tb chopped onion 1 tb cornstarch 4 c hot cooked regular rice\n",
            "= combine vegetable juice vinegar hot sauce oregano minced garlic in a large shallow container stir well add chicken turning once to coat marinate in refrigerator 30 min\n",
            "< in a large bowl combine all ingredients and salt in a large bowl combine all ingredients and cook for 5 minutes or until smooth add the remaining ingredients and cook for 5 minutes or until smooth add the remaining ingredients and cook for 5 minutes or until smooth add the remaining ingredients and cook for 5 minutes or until smooth add the remaining ingredients and cook for 5 minutes or until smooth add the remaining ingredients and cook for 5 minutes or until smooth add the remaining ingredients and cook for 5 minutes or until smooth add the flour and cook for 5 minutes or until smooth add the remaining ingredients and cook for 5 minutes or until smooth add the remaining ingredients except and cook for 5 minutes or until smooth add the remaining ingredients and cook for 5 minutes or until smooth add the remaining ingredients and cook\n",
            "\n"
          ]
        }
      ],
      "source": [
        "evaluateRandomly(encoder1, decoder1, input_lang_train, output_lang_train, pairs_test, n=5)"
      ]
    },
    {
      "cell_type": "markdown",
      "metadata": {
        "id": "ijrprw00VCsU"
      },
      "source": [
        "### BASELINE MODEL 2 Seq2Seq with Attention"
      ]
    },
    {
      "cell_type": "markdown",
      "source": [
        "Decoder"
      ],
      "metadata": {
        "id": "e4wU99Z0ZvVO"
      }
    },
    {
      "cell_type": "code",
      "execution_count": 29,
      "metadata": {
        "id": "-Zm4u98kVE7t"
      },
      "outputs": [],
      "source": [
        "class AttnDecoder(nn.Module):\n",
        "    def __init__(self, hidden_size, output_size, dropout_p=0.1, max_length=MAX_LENGTH):\n",
        "        super(AttnDecoder, self).__init__()\n",
        "        self.hidden_size = hidden_size\n",
        "        self.output_size = output_size\n",
        "        self.dropout_p = dropout_p\n",
        "        self.max_length = max_length\n",
        "\n",
        "        self.embedding = nn.Embedding(self.output_size, self.hidden_size)\n",
        "        self.attn = nn.Linear(self.hidden_size * 2, self.max_length)\n",
        "        self.attn_combine = nn.Linear(self.hidden_size * 2, self.hidden_size)\n",
        "        self.dropout = nn.Dropout(self.dropout_p)\n",
        "        self.lstm = nn.LSTM(self.hidden_size, self.hidden_size)\n",
        "        self.out = nn.Linear(self.hidden_size, self.output_size)\n",
        "\n",
        "    def forward(self, input, hidden, cell, encoder_outputs):\n",
        "        embedded = self.embedding(input).view(1, 1, -1)\n",
        "        embedded = self.dropout(embedded)\n",
        "\n",
        "        attn_weights = F.softmax(\n",
        "            self.attn(torch.cat((embedded[0], hidden[0]), 1)), dim=1)\n",
        "        attn_applied = torch.bmm(attn_weights.unsqueeze(0),\n",
        "                                 encoder_outputs.unsqueeze(0))\n",
        "\n",
        "        output = torch.cat((embedded[0], attn_applied[0]), 1)\n",
        "        output = self.attn_combine(output).unsqueeze(0)\n",
        "\n",
        "        output = F.relu(output)\n",
        "        output, (hidden, cell) = self.lstm(output, (hidden, cell))\n",
        "\n",
        "        output = F.log_softmax(self.out(output[0]), dim=1)\n",
        "        return output, hidden, cell, attn_weights\n",
        "\n",
        "    def init_Hidden(self):\n",
        "        return (torch.zeros(1, 1, self.hidden_size, device=device),\n",
        "                torch.zeros(1, 1, self.hidden_size, device=device))"
      ]
    },
    {
      "cell_type": "markdown",
      "source": [
        "### Training"
      ],
      "metadata": {
        "id": "3mu1mtWEZ0_-"
      }
    },
    {
      "cell_type": "code",
      "execution_count": 31,
      "metadata": {
        "id": "_YT6KFiOdipW"
      },
      "outputs": [],
      "source": [
        "def train_attn(input_tensor, target_tensor, encoder, decoder, encoder_optimizer, decoder_optimizer, criterion, max_length=MAX_LENGTH):\n",
        "    encoder_hidden, encoder_cell = encoder.init_hidden()\n",
        "    encoder_optimizer.zero_grad()\n",
        "    decoder_optimizer.zero_grad()\n",
        "\n",
        "    input_length = min(input_tensor.size(0), max_length)\n",
        "    target_length = target_tensor.size(0)\n",
        "\n",
        "    encoder_outputs = torch.zeros(max_length, encoder.hidden_size, device=device)\n",
        "\n",
        "    loss = 0\n",
        "    \n",
        "    for ei in range(input_length):\n",
        "        encoder_output, encoder_hidden, encoder_cell = encoder(input_tensor[ei], encoder_hidden, encoder_cell)\n",
        "        encoder_outputs[ei] = encoder_output[0, 0]\n",
        "\n",
        "    decoder_input = torch.tensor([[SOS_token]], device=device)\n",
        "\n",
        "    decoder_hidden = encoder_hidden\n",
        "    decoder_cell = encoder_cell\n",
        "\n",
        "    use_teacher_forcing = True if random.random() < teacher_forcing_ratio else False\n",
        "\n",
        "    if use_teacher_forcing:\n",
        "        # Teacher forcing: Feed the target as the next input\n",
        "        for di in range(target_length):\n",
        "            decoder_output, decoder_hidden, decoder_cell, decoder_attention = decoder(\n",
        "                decoder_input, decoder_hidden, decoder_cell, encoder_outputs)\n",
        "            loss += criterion(decoder_output, target_tensor[di])\n",
        "            decoder_input = target_tensor[di]  # Teacher forcing\n",
        "\n",
        "    else:\n",
        "        # Without teacher forcing: use its own predictions as the next input\n",
        "        for di in range(target_length):\n",
        "            decoder_output, decoder_hidden, decoder_cell, decoder_attention = decoder(\n",
        "                decoder_input, decoder_hidden, decoder_cell, encoder_outputs)\n",
        "            topv, topi = decoder_output.topk(1)\n",
        "            decoder_input = topi.squeeze().detach()  # detach from history as input\n",
        "\n",
        "            loss += criterion(decoder_output, target_tensor[di])\n",
        "            if decoder_input.item() == EOS_token:\n",
        "                break\n",
        "\n",
        "    loss.backward()\n",
        "\n",
        "    encoder_optimizer.step()\n",
        "    decoder_optimizer.step()\n",
        "\n",
        "    return loss.item() / target_length"
      ]
    },
    {
      "cell_type": "markdown",
      "source": [
        "The whole training process looks like this:\n",
        "\n",
        "- Start a timer\n",
        "- Initialize optimizers and criterion\n",
        "- Create set of training pairs\n",
        "- Start empty losses array for plotting\n",
        "\n",
        "Then we call `train` many times and occasionally print the progress (% of examples, time so far, estimated time) and average loss."
      ],
      "metadata": {
        "id": "2MV5kUhkaGJN"
      }
    },
    {
      "cell_type": "code",
      "source": [
        "def trainIters_attn(encoder, decoder, n_iters, input_lang, output_lang, pairs, dev_pairs, print_every=1000, plot_every=100, learning_rate=0.01):\n",
        "    start = time.time()\n",
        "    plot_losses = []\n",
        "    print_loss_total = 0  # Reset every print_every\n",
        "    plot_loss_total = 0  # Reset every plot_every\n",
        "\n",
        "    encoder_optimizer = optim.Adam(encoder.parameters(), lr=learning_rate)\n",
        "    decoder_optimizer = optim.Adam(decoder.parameters(), lr=learning_rate)\n",
        "    training_pairs = [tensorsFromPair(input_lang, output_lang, random.choice(pairs))\n",
        "                      for i in range(n_iters)]\n",
        "    criterion = nn.NLLLoss()\n",
        "    \n",
        "    dev_loss_list = []\n",
        "    for iter in range(1, n_iters + 1):\n",
        "        training_pair = training_pairs[iter - 1]\n",
        "        input_tensor = training_pair[0]\n",
        "        target_tensor = training_pair[1]\n",
        "\n",
        "        loss = train_attn(input_tensor, target_tensor, encoder,\n",
        "                          decoder, encoder_optimizer, decoder_optimizer, criterion)\n",
        "        \n",
        "        print_loss_total += loss\n",
        "        plot_loss_total += loss\n",
        "        \n",
        "        if iter % print_every == 0:\n",
        "            print_loss_avg = print_loss_total / print_every\n",
        "            print_loss_total = 0\n",
        "            \n",
        "\n",
        "            # Calculate loss on development set\n",
        "            dev_loss = 0\n",
        "            with torch.no_grad():\n",
        "                for dev_pair in dev_pairs:\n",
        "                    input_tensor = tensorFromSentence(input_lang, dev_pair[0])\n",
        "                    target_tensor = tensorFromSentence(output_lang, dev_pair[1])\n",
        "                    loss = calculate_loss(input_tensor, target_tensor, encoder, decoder, criterion)\n",
        "                    \n",
        "                    dev_loss += loss\n",
        "            dev_loss_avg = dev_loss / len(dev_pairs)\n",
        "            print('%s (%d %d%%) %.4f' % (timeSince(start, iter / n_iters),\n",
        "                                         iter, iter / n_iters * 100, print_loss_avg))\n",
        "            print('Dev loss: %.4f' % dev_loss_avg)\n",
        "\n",
        "        if iter % plot_every == 0:\n",
        "            plot_loss_avg = plot_loss_total / plot_every\n",
        "            plot_losses.append(plot_loss_avg)\n",
        "            plot_loss_total = 0\n",
        "            dev_loss = 0\n",
        "            with torch.no_grad():\n",
        "                for dev_pair in dev_pairs:\n",
        "                    input_tensor = tensorFromSentence(input_lang, dev_pair[0])\n",
        "                    target_tensor = tensorFromSentence(output_lang, dev_pair[1])\n",
        "                    loss = calculate_loss(input_tensor, target_tensor, encoder, decoder, criterion)\n",
        "                    \n",
        "                    dev_loss += loss\n",
        "            dev_loss_avg = dev_loss / len(dev_pairs)\n",
        "            dev_loss_list.append(dev_loss_avg)\n",
        "\n",
        "    showPlot(plot_losses)\n",
        "    return plot_losses, dev_loss_list"
      ],
      "metadata": {
        "id": "u6BSahm3aH94"
      },
      "execution_count": null,
      "outputs": []
    },
    {
      "cell_type": "markdown",
      "source": [
        "### Evaluation"
      ],
      "metadata": {
        "id": "J_IXncgzZ7A0"
      }
    },
    {
      "cell_type": "markdown",
      "source": [
        "Method to get predicted sentences"
      ],
      "metadata": {
        "id": "1LqN_2KtaVSV"
      }
    },
    {
      "cell_type": "code",
      "execution_count": 32,
      "metadata": {
        "id": "g-dgaLmbVkqh"
      },
      "outputs": [],
      "source": [
        "def evaluate_attn(encoder, decoder, input_lang, output_lang, sentence, max_length=MAX_LENGTH): \n",
        "    with torch.no_grad():\n",
        "        input_tensor = tensorFromSentence(input_lang, sentence)\n",
        "        input_length = input_tensor.size()[0]\n",
        "        encoder_hidden, encoder_cell = encoder.init_hidden()\n",
        "\n",
        "        encoder_outputs = torch.zeros(max_length, encoder.hidden_size, device=device)\n",
        "\n",
        "        for ei in range(input_length):\n",
        "            encoder_output, encoder_hidden, encoder_cell = encoder(input_tensor[ei],\n",
        "                                                     encoder_hidden, encoder_cell)\n",
        "            encoder_outputs[ei] += encoder_output[0, 0]\n",
        "\n",
        "        decoder_input = torch.tensor([[SOS_token]], device=device)  # SOS\n",
        "\n",
        "        decoder_hidden = encoder_hidden\n",
        "        decoder_cell = encoder_cell\n",
        "\n",
        "        decoded_words = []\n",
        "        decoder_attentions = torch.zeros(max_length, max_length)\n",
        "\n",
        "        for di in range(max_length):\n",
        "            decoder_output, decoder_hidden, decoder_cell, decoder_attention = decoder(\n",
        "                decoder_input, decoder_hidden, decoder_cell, encoder_outputs)\n",
        "            decoder_attentions[di] = decoder_attention.data\n",
        "            topv, topi = decoder_output.data.topk(1)\n",
        "            if topi.item() == EOS_token:\n",
        "                decoded_words.append('<EOS>')\n",
        "                break\n",
        "            else:\n",
        "                decoded_words.append(output_lang.index2word[topi.item()])\n",
        "\n",
        "            decoder_input = topi.squeeze().detach()\n",
        "\n",
        "        return decoded_words"
      ]
    },
    {
      "cell_type": "markdown",
      "source": [
        "Method to generate random prediction"
      ],
      "metadata": {
        "id": "XzjxThonaZRk"
      }
    },
    {
      "cell_type": "code",
      "execution_count": 33,
      "metadata": {
        "id": "O912ghDFfU7Y"
      },
      "outputs": [],
      "source": [
        "def evaluateRandomly_attn(encoder, input_lang, output_lang, pairs, decoder, n=10):\n",
        "    for i in range(n):\n",
        "        pair = random.choice(pairs)\n",
        "        print('>', pair[0])\n",
        "        print('=', pair[1])\n",
        "        output_words = evaluate_attn(encoder, decoder, input_lang, output_lang, pair[0])\n",
        "        output_sentence = ' '.join(output_words)\n",
        "        print('<', output_sentence)\n",
        "        print('')"
      ]
    },
    {
      "cell_type": "markdown",
      "source": [
        "Method to evaluate development loss"
      ],
      "metadata": {
        "id": "RFg_2Yy2aQun"
      }
    },
    {
      "cell_type": "code",
      "execution_count": 34,
      "metadata": {
        "id": "pbFfs-9wfaJ3"
      },
      "outputs": [],
      "source": [
        "def calculate_loss(input_tensor, target_tensor, encoder, decoder, criterion, max_length=MAX_LENGTH):\n",
        "    encoder_hidden, encoder_cell = encoder.init_hidden()\n",
        "\n",
        "    input_length = min(input_tensor.size(0), max_length)\n",
        "    target_length = target_tensor.size(0)\n",
        "\n",
        "    encoder_outputs = torch.zeros(max_length, encoder.hidden_size, device=device)\n",
        "\n",
        "    loss = 0\n",
        "\n",
        "    for ei in range(input_length):\n",
        "        encoder_output, encoder_hidden, encoder_cell = encoder(input_tensor[ei], encoder_hidden, encoder_cell)\n",
        "        encoder_outputs[ei] = encoder_output[0, 0]\n",
        "\n",
        "    decoder_input = torch.tensor([[SOS_token]], device=device)\n",
        "\n",
        "    decoder_hidden = encoder_hidden\n",
        "    decoder_cell = encoder_cell\n",
        "\n",
        "    # Without teacher forcing: use its own predictions as the next input\n",
        "    for di in range(target_length):\n",
        "        decoder_output, decoder_hidden, decoder_cell, decoder_attention = decoder(\n",
        "            decoder_input, decoder_hidden, decoder_cell, encoder_outputs)\n",
        "        topv, topi = decoder_output.topk(1)\n",
        "        decoder_input = topi.squeeze().detach()  # detach from history as input\n",
        "\n",
        "        loss += criterion(decoder_output, target_tensor[di])\n",
        "        if decoder_input.item() == EOS_token:\n",
        "            break\n",
        "\n",
        "    return loss.item() / target_length"
      ]
    },
    {
      "cell_type": "code",
      "execution_count": 35,
      "metadata": {
        "id": "cjzzfFt6fctV",
        "colab": {
          "base_uri": "https://localhost:8080/",
          "height": 810
        },
        "outputId": "ee728409-6aa7-499f-e380-0426bab5e331"
      },
      "outputs": [
        {
          "output_type": "stream",
          "name": "stdout",
          "text": [
            "13m 28s (- 121m 19s) (4000 10%) 7.3617\n",
            "Dev loss: 7.8039\n",
            "27m 5s (- 108m 21s) (8000 20%) 7.2738\n",
            "Dev loss: 7.4468\n",
            "40m 51s (- 95m 19s) (12000 30%) 7.2673\n",
            "Dev loss: 7.6602\n",
            "54m 29s (- 81m 44s) (16000 40%) 7.3270\n",
            "Dev loss: 7.6258\n",
            "68m 6s (- 68m 6s) (20000 50%) 7.3904\n",
            "Dev loss: 7.7000\n",
            "81m 45s (- 54m 30s) (24000 60%) 7.3567\n",
            "Dev loss: 8.0845\n",
            "95m 22s (- 40m 52s) (28000 70%) 7.3472\n",
            "Dev loss: 8.3787\n",
            "108m 54s (- 27m 13s) (32000 80%) 7.3595\n",
            "Dev loss: 7.6587\n",
            "122m 28s (- 13m 36s) (36000 90%) 7.3193\n",
            "Dev loss: 7.6921\n",
            "135m 57s (- 0m 0s) (40000 100%) 7.2818\n",
            "Dev loss: 8.5454\n"
          ]
        },
        {
          "output_type": "display_data",
          "data": {
            "text/plain": [
              "<Figure size 640x480 with 0 Axes>"
            ]
          },
          "metadata": {}
        },
        {
          "output_type": "display_data",
          "data": {
            "text/plain": [
              "<Figure size 640x480 with 1 Axes>"
            ],
            "image/png": "[encoded data removed]"
          },
          "metadata": {}
        }
      ],
      "source": [
        "hidden_size = 256\n",
        "encoder2 = Encoder(input_lang_train.n_words, hidden_size, dropout_rate).to(device)\n",
        "decoder2 = AttnDecoder(hidden_size, output_lang_train.n_words, dropout_p=0.1).to(device)\n",
        "\n",
        "model_train_2, model_dev_2 = trainIters_attn(encoder2, decoder2, 40000, input_lang_train, output_lang_train, pairs_train, pairs_dev, print_every=4000, plot_every=4000)"
      ]
    },
    {
      "cell_type": "code",
      "execution_count": 36,
      "metadata": {
        "id": "lpYqsvrPfgRo",
        "colab": {
          "base_uri": "https://localhost:8080/"
        },
        "outputId": "d3d0eccc-3a84-4b12-9732-caa03ab282bd"
      },
      "outputs": [
        {
          "output_type": "stream",
          "name": "stdout",
          "text": [
            "> 14 c plus 1 tbs hoisin sauce 3 tb honey 2 tb soy sauce 2 tb dry sherry 2 tb sesame seeds 1 jalapeno chile seeded and minced 1 tb sesame oil 1 tb curry powder 1 tb orange zest finely grated 1 tb fermented black beans\n",
            "= combine all the ingredients in a medium bowl use with any kind of beefsteak lamb or duck marinate 13 hours or use as a dipping sauce\n",
            "< fry in 2quart fat from from from from from from fat fat fat from from in tomatoes in tomatoes peel remove peel remove peel remove peel peel peel peel peel peel peel peel peel peel peel peel peel peel with lean lean dill dill dill dill dill surround grant grant grant grant grant grant grant grant grant grant grant grant grant grant grant grant grant grant grant grant grant grant grant grant grant grant grant grant grant grant grant grant grant grant grant grant grant grant grant grant grant grant grant grant grant grant grant grant grant grant grant grant grant grant grant grant grant grant grant grant grant grant grant grant grant grant grant grant grant grant grant grant grant grant grant grant grant grant grant grant grant grant grant grant grant grant grant grant grant grant grant grant grant grant grant grant grant grant grant grant grant grant\n",
            "\n",
            "> pie crust 1 pk cream cheese 8oz softened 13 c sugar 1 c sour cream 12 pint 2 ts vanilla 8 oz frozen whipped topping thaw 6 strawberries for garnish\n",
            "= beat cream cheese until smooth gradually beat in sugar blend in sour cream and vanilla fold in whipped toping lrb 8oz rrb blend well and spoon into crust chill until set at least 4 hours\n",
            "< fry less less less in processor bottomed bottomed bottomed in a a a a a a a a greased with greased with a a a hot with hot with sea grant grant grant grant grant grant grant grant grant grant grant grant grant grant grant grant grant grant grant grant grant grant grant grant grant grant grant grant grant grant grant grant grant grant grant grant grant grant grant grant grant grant grant grant grant grant grant grant grant grant grant grant grant grant grant grant grant grant grant grant grant grant grant grant grant grant grant grant grant grant grant grant grant grant grant grant grant grant grant grant grant grant grant grant grant grant grant grant grant grant grant grant grant grant grant grant grant grant grant grant grant grant grant grant grant grant grant grant grant grant grant grant grant grant grant grant grant grant grant grant\n",
            "\n",
            "> vegetable cooking spray 1 ts olive oil 2 cloves garlic minced 6 oz boneless skinless chicken breast halves cut into 14inchwide strips 12 c frozen green peas thawed 13 c coarsely shredded carrot 12 c lowsodium chicken broth 2 tb light process cream cheese product 2 c cooked farfalle bow tie pasta cooked without salt or fat 3 tb grated parmesan cheese 12 ts grated lemon rind 18 ts salt 18 ts pepper fresh chives optional\n",
            "= coat a large nonstick skillet with cooking spray add oil place over mediumhigh heat until hot add garlic saute 15 seconds add chicken saute 1 minute add peas and carrot saute 1 minute remove from skillet set aside add broth and cream cheese to skillet cook over mediumhigh heat 3 minutes or until cheese melts stirring constantly with a whisk stir in chicken mixture farfalle and next 4 ingredients cook 1 minute\n",
            "< fry fry lengthwise in mediumsize chicken peel peel peel peel minutes minutes minutes minutes minutes minutes minutes minutes minutes minutes minutes minutes minutes minutes minutes minutes minutes minutes minutes minutes minutes minutes minutes skewers peel skewers dill peel peel peel peel peel peel peel peel peel peel peel peel peel peel peel peel peel peel peel peel peel peel peel peel peel peel grant grant grant grant grant grant grant grant grant grant grant grant grant grant grant grant grant grant grant grant grant grant grant grant grant grant grant grant grant grant grant grant grant grant grant grant grant grant grant grant grant grant grant grant grant grant grant grant grant grant grant grant grant grant grant grant grant grant grant grant grant grant grant grant grant grant grant grant grant grant grant grant grant grant grant grant grant grant grant grant grant grant grant grant grant grant grant\n",
            "\n",
            "> 3 tb butter 4 tb flour 1 c brown sugar 1 egg 1 c milk 1 ts vanilla 1 baked pastry shell whipped cream\n",
            "= cream butter flour and sugar together beat egg add milk and add to creamed mixture cook in top of double boiler until thickened stirring constantly cool and add vanilla pour into pastry shell and chill spread with the whipped cream before serving\n",
            "< preheat lengthwise to lengthwise per lengthwise per whip the vanilla whip greased whip greased vanilla with greased with hot with hot with butter with hot grant grant grant grant grant grant grant grant grant grant grant grant grant grant grant grant grant grant grant grant grant grant grant grant grant grant grant grant grant grant grant grant grant grant grant grant grant grant grant grant grant grant grant grant grant grant grant grant grant grant grant grant grant grant grant grant grant grant grant grant grant grant grant grant grant grant grant grant grant grant grant grant grant grant grant grant grant grant grant grant grant grant grant grant grant grant grant grant grant grant grant grant grant grant grant grant grant grant grant grant grant grant grant grant grant grant grant grant grant grant grant grant grant grant grant grant grant grant grant grant grant grant grant grant grant\n",
            "\n",
            "> 6 carrots 2 tb grated onion 2 tb horseradish 12 c mayonnaise 1 ts salt 14 ts pepper 14 c water 14 c buttered bread crumbs\n",
            "= clean and cut carrots into thin strips cook until tender in salted water place in 6 x 10 baking dish mix together grated onion horseradish mayonnaise salt pepper and water pour over carrots sprinkle with a 14 cup of butter crumbs bake about 15 min at 375 degrees f\n",
            "< preheat in less in few in few in a a a a a a a a a a a a a the the dill dill grant grant grant grant grant grant grant grant grant grant grant grant grant grant grant grant grant grant grant grant grant grant grant grant grant grant grant grant grant grant grant grant grant grant grant grant grant grant grant grant grant grant grant grant grant grant grant grant grant grant grant grant grant grant grant grant grant grant grant grant grant grant grant grant grant grant grant grant grant grant grant grant grant grant grant grant grant grant grant grant grant grant grant grant grant grant grant grant grant grant grant grant grant grant grant grant grant grant grant grant grant grant grant grant grant grant grant grant grant grant grant grant grant grant grant grant grant grant grant grant grant grant grant grant grant\n",
            "\n"
          ]
        }
      ],
      "source": [
        "evaluateRandomly_attn(encoder2, input_lang_train, output_lang_train, pairs_test, decoder2, n=5)"
      ]
    },
    {
      "cell_type": "markdown",
      "metadata": {
        "id": "dN5jaw46m91F"
      },
      "source": [
        "### TOP K Sampling model"
      ]
    },
    {
      "cell_type": "markdown",
      "source": [
        "Decoder"
      ],
      "metadata": {
        "id": "WOt-G2DaazAh"
      }
    },
    {
      "cell_type": "code",
      "execution_count": 38,
      "metadata": {
        "id": "YMSUod3jeWYU"
      },
      "outputs": [],
      "source": [
        "class Decoder(nn.Module):\n",
        "    def __init__(self, hidden_size, output_size, dropout_rate, top_k=1):\n",
        "        super(Decoder, self).__init__()\n",
        "        self.hidden_size = hidden_size\n",
        "        self.output_size = output_size\n",
        "        self.top_k = top_k\n",
        "\n",
        "        self.embedding = nn.Embedding(output_size, hidden_size)\n",
        "        self.dropout = nn.Dropout(dropout_rate)\n",
        "        self.lstm = nn.LSTM(hidden_size, hidden_size, dropout=dropout_rate)\n",
        "        self.out = nn.Linear(hidden_size, output_size)\n",
        "\n",
        "    def forward(self, input, hidden, cell):\n",
        "        embedded = self.embedding(input).view(1, 1, -1)\n",
        "        embedded = self.dropout(embedded)\n",
        "        output, (hidden, cell) = self.lstm(embedded, (hidden, cell))\n",
        "        output = self.out(output[0])\n",
        "\n",
        "        # Top-k sampling\n",
        "        probabilities = F.softmax(output, dim=1)\n",
        "        top_k_probabilities, top_k_indices = probabilities.topk(self.top_k, dim=1)\n",
        "        choice = torch.multinomial(top_k_probabilities, 1)\n",
        "        next_word_index = top_k_indices[0, choice]\n",
        "\n",
        "        return output, next_word_index, hidden, cell"
      ]
    },
    {
      "cell_type": "markdown",
      "source": [
        "Encoder"
      ],
      "metadata": {
        "id": "yxq4nqpja0we"
      }
    },
    {
      "cell_type": "code",
      "execution_count": 39,
      "metadata": {
        "id": "FiJfZWiHB_LN"
      },
      "outputs": [],
      "source": [
        "# Define the Encoder class\n",
        "class Encoder(nn.Module):\n",
        "    def __init__(self, input_size, hidden_size, dropout_rate):\n",
        "        super(Encoder, self).__init__()\n",
        "        self.hidden_size = hidden_size\n",
        "\n",
        "        self.embedding = nn.Embedding(input_size, hidden_size)\n",
        "        self.dropout = nn.Dropout(dropout_rate)\n",
        "        self.lstm = nn.LSTM(hidden_size, hidden_size)\n",
        "\n",
        "    def forward(self, input, hidden, cell):\n",
        "        embedded = self.embedding(input).view(1, 1, -1)\n",
        "        embedded = self.dropout(embedded)\n",
        "        output, (hidden, cell) = self.lstm(embedded, (hidden, cell))\n",
        "        return output, hidden, cell\n",
        "\n",
        "    def init_hidden(self):\n",
        "        return (torch.zeros(1, 1, self.hidden_size, device=device),\n",
        "                torch.zeros(1, 1, self.hidden_size, device=device))"
      ]
    },
    {
      "cell_type": "markdown",
      "source": [
        "### Training"
      ],
      "metadata": {
        "id": "SbmYw6iza3KS"
      }
    },
    {
      "cell_type": "code",
      "execution_count": 40,
      "metadata": {
        "id": "TODgoeEpCTRn"
      },
      "outputs": [],
      "source": [
        "def train(input_tensor, target_tensor, encoder, decoder, encoder_optimizer, decoder_optimizer, criterion, max_length=MAX_LENGTH):\n",
        "    encoder_optimizer.zero_grad()\n",
        "    decoder_optimizer.zero_grad()\n",
        "\n",
        "    input_length = input_tensor.size(0)\n",
        "    target_length = target_tensor.size(0)\n",
        "\n",
        "    encoder_hidden, encoder_cell = encoder.init_hidden()\n",
        "\n",
        "    loss = 0\n",
        "\n",
        "    for ei in range(input_length):\n",
        "        encoder_output, encoder_hidden, encoder_cell = encoder(input_tensor[ei], encoder_hidden, encoder_cell)\n",
        "\n",
        "    decoder_input = torch.tensor([[SOS_token]], device=device)\n",
        "\n",
        "    decoder_hidden = encoder_hidden\n",
        "    decoder_cell = encoder_cell\n",
        "\n",
        "    use_teacher_forcing = True if random.random() < teacher_forcing_ratio else False\n",
        "\n",
        "    if use_teacher_forcing:\n",
        "        for di in range(target_length):\n",
        "            decoder_output, decoder_input, decoder_hidden, decoder_cell = decoder(decoder_input, decoder_hidden, decoder_cell)\n",
        "            loss += criterion(decoder_output, target_tensor[di])\n",
        "            decoder_input = target_tensor[di]  # Teacher forcing\n",
        "    else:\n",
        "        for di in range(target_length):\n",
        "            decoder_output, decoder_input, decoder_hidden, decoder_cell = decoder(decoder_input, decoder_hidden, decoder_cell)\n",
        "            topv, topi = decoder_output.topk(1)\n",
        "            decoder_input = topi.squeeze().detach()\n",
        "\n",
        "            loss += criterion(decoder_output, target_tensor[di])\n",
        "            if decoder_input.item() == EOS_token or di == max_length - 1: # break if reach EOS_token or max_length\n",
        "                break\n",
        "\n",
        "    loss.backward()\n",
        "\n",
        "    encoder_optimizer.step()\n",
        "    decoder_optimizer.step()\n",
        "\n",
        "    return loss.item() / target_length"
      ]
    },
    {
      "cell_type": "markdown",
      "source": [
        "The whole training process looks like this:\n",
        "\n",
        "- Start a timer\n",
        "- Initialize optimizers and criterion\n",
        "- Create set of training pairs\n",
        "- Start empty losses array for plotting\n",
        "\n",
        "Then we call `train` many times and occasionally print the progress (% of examples, time so far, estimated time) and average loss."
      ],
      "metadata": {
        "id": "Wt_nZOuEa5h_"
      }
    },
    {
      "cell_type": "code",
      "execution_count": 43,
      "metadata": {
        "id": "zKJNzq8YDHNy"
      },
      "outputs": [],
      "source": [
        "def trainIters(encoder, decoder, n_iters, input_lang, output_lang, train_pairs, dev_pairs, print_every=1000, plot_every=100):\n",
        "    start = time.time()\n",
        "    plot_losses = []\n",
        "    print_loss_total = 0  # Reset every print_every\n",
        "    plot_loss_total = 0  # Reset every plot_every\n",
        "\n",
        "    encoder_optimizer = optim.Adam(encoder.parameters(), lr=learning_rate)\n",
        "    decoder_optimizer = optim.Adam(decoder.parameters(), lr=learning_rate)\n",
        "    training_pairs = [tensorsFromPair(input_lang, output_lang, random.choice(train_pairs))\n",
        "                      for i in range(n_iters)]\n",
        "    criterion = nn.CrossEntropyLoss()\n",
        "    dev_loss = []\n",
        "    for iter in range(1, n_iters + 1):\n",
        "        training_pair = training_pairs[iter - 1]\n",
        "        input_tensor = training_pair[0]\n",
        "        target_tensor = training_pair[1]\n",
        "\n",
        "        loss = train(input_tensor, target_tensor, encoder,\n",
        "                     decoder, encoder_optimizer, decoder_optimizer, criterion)\n",
        "        \n",
        "        print_loss_total += loss\n",
        "        plot_loss_total += loss\n",
        "        \n",
        "        if iter % print_every == 0:\n",
        "            print_loss_avg = print_loss_total / print_every\n",
        "            print_loss_total = 0\n",
        "            \n",
        "            # Calculate loss on dev set\n",
        "            dev_loss_avg = evaluate_all(encoder, decoder, dev_pairs, input_lang, output_lang, criterion)\n",
        "            \n",
        "            print('%s (%d %d%%) %.4f' % (timeSince(start, iter / n_iters),\n",
        "                                         iter, iter / n_iters * 100, print_loss_avg))\n",
        "            print('Dev loss: %.4f' % dev_loss_avg)\n",
        "\n",
        "        if iter % plot_every == 0:\n",
        "            plot_loss_avg = plot_loss_total / plot_every\n",
        "            plot_losses.append(plot_loss_avg)\n",
        "            plot_loss_total = 0\n",
        "            dev_loss_avg = evaluate_all(encoder, decoder, dev_pairs, input_lang, output_lang, criterion)\n",
        "            dev_loss.append(dev_loss_avg)\n",
        "\n",
        "    showPlot(plot_losses)\n",
        "    return plot_losses, dev_loss"
      ]
    },
    {
      "cell_type": "markdown",
      "source": [
        "### Evaluation"
      ],
      "metadata": {
        "id": "P5yBuu33aiuA"
      }
    },
    {
      "cell_type": "markdown",
      "source": [
        "Method to generate random predictions"
      ],
      "metadata": {
        "id": "DZa0gXQAbAYp"
      }
    },
    {
      "cell_type": "code",
      "source": [
        "def evaluateRandomly(encoder, input_lang, output_lang, pairs, decoder, n=10):\n",
        "    for i in range(n):\n",
        "        pair = random.choice(pairs)\n",
        "        print('>', pair[0])\n",
        "        print('=', pair[1])\n",
        "        output_words = evaluate3(encoder, decoder, input_lang, output_lang, pair[0])\n",
        "        output_sentence = ' '.join(output_words)\n",
        "        print('<', output_sentence)\n",
        "        print('')"
      ],
      "metadata": {
        "id": "oh6jadLGamau"
      },
      "execution_count": null,
      "outputs": []
    },
    {
      "cell_type": "markdown",
      "source": [
        "Method to compute development loss"
      ],
      "metadata": {
        "id": "Ya8TdWT8bDy7"
      }
    },
    {
      "cell_type": "code",
      "source": [
        "def evaluate_all(encoder, decoder, dev_pairs, input_lang, output_lang, criterion, max_length=MAX_LENGTH):\n",
        "    dev_loss = 0\n",
        "    for dev_pair in dev_pairs:\n",
        "        input_tensor = tensorFromSentence(input_lang, dev_pair[0])\n",
        "        target_tensor = tensorFromSentence(output_lang, dev_pair[1])\n",
        "        input_length = input_tensor.size(0)\n",
        "        target_length = target_tensor.size(0)\n",
        "\n",
        "        encoder_hidden, encoder_cell = encoder.init_hidden()\n",
        "\n",
        "        loss = 0\n",
        "\n",
        "        for ei in range(input_length):\n",
        "            encoder_output, encoder_hidden, encoder_cell = encoder(input_tensor[ei], encoder_hidden, encoder_cell)\n",
        "\n",
        "        decoder_input = torch.tensor([[SOS_token]], device=device)\n",
        "\n",
        "        decoder_hidden = encoder_hidden\n",
        "        decoder_cell = encoder_cell\n",
        "\n",
        "        for di in range(target_length):\n",
        "            decoder_output, decoder_input, decoder_hidden, decoder_cell = decoder(decoder_input, decoder_hidden, decoder_cell)\n",
        "            loss += criterion(decoder_output, target_tensor[di])\n",
        "            if decoder_input.item() == EOS_token or di == max_length - 1:\n",
        "                break\n",
        "\n",
        "        dev_loss += loss.item() / target_length\n",
        "    return dev_loss / len(dev_pairs)"
      ],
      "metadata": {
        "id": "T-D8rk9XanPK"
      },
      "execution_count": null,
      "outputs": []
    },
    {
      "cell_type": "markdown",
      "source": [
        "Method to get prediction"
      ],
      "metadata": {
        "id": "JdBwZ6d3bIFg"
      }
    },
    {
      "cell_type": "code",
      "source": [
        "def evaluate3(encoder, decoder, input_lang, output_lang, sentence, max_length=MAX_LENGTH):\n",
        "    with torch.no_grad():\n",
        "        input_tensor = tensorFromSentence(input_lang, sentence)\n",
        "        input_length = input_tensor.size()[0]\n",
        "        encoder_hidden, encoder_cell = encoder.init_hidden()\n",
        "\n",
        "        for ei in range(input_length):\n",
        "            encoder_output, encoder_hidden, encoder_cell = encoder(input_tensor[ei].view(1, 1, -1),\n",
        "                                                     encoder_hidden, encoder_cell)\n",
        "\n",
        "        decoder_input = torch.tensor([[SOS_token]], device=device)  # SOS\n",
        "\n",
        "        decoder_hidden = encoder_hidden\n",
        "        decoder_cell = encoder_cell\n",
        "\n",
        "        decoded_words = []\n",
        "\n",
        "        for di in range(max_length):\n",
        "            decoder_output, decoder_input, decoder_hidden, decoder_cell = decoder(\n",
        "                decoder_input, decoder_hidden, decoder_cell)\n",
        "            topv, topi = decoder_output.data.topk(1)\n",
        "            if topi.item() == EOS_token:\n",
        "                decoded_words.append('<EOS>')\n",
        "                break\n",
        "            else:\n",
        "                decoded_words.append(output_lang.index2word[topi.item()])\n",
        "\n",
        "            decoder_input = topi.squeeze().detach()\n",
        "\n",
        "        return decoded_words"
      ],
      "metadata": {
        "id": "SLn_S9zEaucb"
      },
      "execution_count": null,
      "outputs": []
    },
    {
      "cell_type": "markdown",
      "source": [
        "#### Training and Evaluating\n"
      ],
      "metadata": {
        "id": "Qyod-QN7bMkE"
      }
    },
    {
      "cell_type": "code",
      "execution_count": 44,
      "metadata": {
        "id": "T12CwzKHDUTq",
        "colab": {
          "base_uri": "https://localhost:8080/",
          "height": 810
        },
        "outputId": "596f6f69-bf2b-489e-e0e1-46bb8fce36b9"
      },
      "outputs": [
        {
          "output_type": "stream",
          "name": "stdout",
          "text": [
            "13m 8s (- 118m 16s) (4000 10%) 4.9283\n",
            "Dev loss: 6.5902\n",
            "26m 31s (- 106m 7s) (8000 20%) 4.1753\n",
            "Dev loss: 6.8311\n",
            "39m 55s (- 93m 9s) (12000 30%) 3.9484\n",
            "Dev loss: 6.8226\n",
            "53m 13s (- 79m 50s) (16000 40%) 3.8688\n",
            "Dev loss: 7.0391\n",
            "66m 45s (- 66m 45s) (20000 50%) 3.8353\n",
            "Dev loss: 7.1071\n",
            "79m 56s (- 53m 17s) (24000 60%) 3.8006\n",
            "Dev loss: 7.2142\n",
            "93m 7s (- 39m 54s) (28000 70%) 3.7506\n",
            "Dev loss: 6.4339\n",
            "106m 26s (- 26m 36s) (32000 80%) 3.6890\n",
            "Dev loss: 6.8237\n",
            "119m 50s (- 13m 18s) (36000 90%) 3.7067\n",
            "Dev loss: 6.9803\n",
            "133m 1s (- 0m 0s) (40000 100%) 3.6821\n",
            "Dev loss: 7.4717\n"
          ]
        },
        {
          "output_type": "display_data",
          "data": {
            "text/plain": [
              "<Figure size 640x480 with 0 Axes>"
            ]
          },
          "metadata": {}
        },
        {
          "output_type": "display_data",
          "data": {
            "text/plain": [
              "<Figure size 640x480 with 1 Axes>"
            ],
            "image/png": "[encoded data removed]"
          },
          "metadata": {}
        }
      ],
      "source": [
        "# Set the parameters\n",
        "hidden_size = 256\n",
        "dropout_rate = 0.1\n",
        "learning_rate = 0.001\n",
        "teacher_forcing_ratio = 1\n",
        "n_iters = 40000\n",
        "print_every = 4000\n",
        "plot_every = 4000\n",
        "\n",
        "# Create the encoder and decoder models\n",
        "encoder3 = Encoder(input_lang_train.n_words, hidden_size, dropout_rate).to(device)\n",
        "decoder3 = Decoder(hidden_size, output_lang_train.n_words, dropout_rate, top_k=5).to(device)\n",
        "\n",
        "# Train the models\n",
        "model_train_3, model_dev_3 = trainIters(encoder3, decoder3, n_iters, input_lang_train, output_lang_train, pairs_train, pairs_dev, print_every, plot_every)"
      ]
    },
    {
      "cell_type": "code",
      "execution_count": 45,
      "metadata": {
        "id": "bDkZ6eTyDWR_",
        "colab": {
          "base_uri": "https://localhost:8080/"
        },
        "outputId": "988df2ac-9228-46bf-8744-dc55a1c2fbe5"
      },
      "outputs": [
        {
          "output_type": "stream",
          "name": "stdout",
          "text": [
            "> 1 c fresh blackberries washed and dried 1 tb sugar 1 lg egg 1 c plain or honey yogurt 3 tb butter or margarine melted 2 12 c variety baking mix eg bisquik 1 ts chopped lemon zest\n",
            "= preheat oven to 400f sprinkle berries with sugar toss lightly to coat set aside in a large bowl beat egg add yogurt and melted butter or margarine beat until smooth add baking mix stir until just blended fold in berries and lemon zest spoon mixture into greased or sprayed muffin cups 3 inch in diameter and 112 inch deep bake for 2025 minutes or until a toothpick inserted in the centre comes out clean cool for 5 minutes in cups finish cooling on rack\n",
            "< cubes lemon strips with once pan melt glass done buttermilk all except crumbs kind except strips glass done buttermilk all except crumbs kind except strips glass done buttermilk quarter glass melon to bake gail drippings about 10 min <EOS>\n",
            "\n",
            "> 14 c plus 1 tbs hoisin sauce 3 tb honey 2 tb soy sauce 2 tb dry sherry 2 tb sesame seeds 1 jalapeno chile seeded and minced 1 tb sesame oil 1 tb curry powder 1 tb orange zest finely grated 1 tb fermented black beans\n",
            "= combine all the ingredients in a medium bowl use with any kind of beefsteak lamb or duck marinate 13 hours or use as a dipping sauce\n",
            "< cubes lemon strips with once pan melt glass done buttermilk all except crumbs kind except strips glass done buttermilk all except crumbs kind except strips glass done buttermilk all except crumbs kind except strips glass done buttermilk cooling to bake gail drippings about <EOS>\n",
            "\n",
            "> 1 ea egg beaten 1 ts lime peel grated 14 c sugar 2 dr green food coloring 14 c butter or margarine 23 c whipped cream 14 c lime juice\n",
            "= in the top of a double boiler combine the egg and sugar cut the butter into tablespoons add to double boiler add lime juice and peel cook and stir over boiling water for 810 minutes or until thick remove from the heat add food coloring cool fold in whipped cream chill for at least 1 hour 1 serving\n",
            "< cubes lemon strips with once pan melt glass quarter spoons 13x9x2 evenly glass melon bake gail drippings about sugar while plate high mediumhigh plate high mediumhigh <EOS>\n",
            "\n",
            "> 1 c fresh oysters shucked 1 tb cornstarch 12 c spinach chopped 12 c water 1 qt milk 1 ts salt 2 tb butter 12 ts pepper 1 ts a1 steak sauce 12 c whipping cream whipped\n",
            "= puree oysters and spinach in a blender heat milk and add puree butter and a1 sauce bring to simmering point mix cornstarch with water and add to soup to thicken season ladle into 4 ovenproof bowls and garnish each with whipped cream and put bowls under broiler until cream is browned\n",
            "< single olive plate saucepan boil water cubes except in glass wellcoated segments with once pan melt cubes except in wellcoated segments glass mixing with once pan melt cubes except in glass wellcoated segments glass all except crumbs kind except strips glass done buttermilk all except zest glass halfandhalf glass done buttermilk all except crumbs kind except strips glass done buttermilk all except crumbs kind except strips glass done buttermilk all except crumbs kind except strips glass done buttermilk dipping reduced once chop glass pears avocado bottom drippings mold wellcoated combine slice bake saucepan boil water to so rum scott sugar medium except any mint bowl serve <EOS>\n",
            "\n",
            "> x eggplant x oil x balsamic vinegar x herbs of choice\n",
            "= marinate in a baking dish with olive oil balsamic vinegar and jsut about any herbs that turn you on add chopped garlic and salt and pepper to taste marinate for about an hour and grill over a medium grill until they re nicely soft and grilled serve warm and bask in the glow of compliments from your friends\n",
            "< with once pan side cubes except lamb other glass beefsteak thoroughly plate once legs hour remove glass time to so still scott sugar medium except freizeit ungreased chili if except combine gin except remove glass marg with except off stock glass granulated <EOS>\n",
            "\n"
          ]
        }
      ],
      "source": [
        "evaluateRandomly(encoder3, input_lang_test, output_lang_test, pairs_test, decoder3, n=5)"
      ]
    },
    {
      "cell_type": "markdown",
      "metadata": {
        "id": "2Cc3Z4UEkWLo"
      },
      "source": [
        "### Coverage Mechanism"
      ]
    },
    {
      "cell_type": "markdown",
      "source": [
        "Decoder"
      ],
      "metadata": {
        "id": "4lJilRGCbdkn"
      }
    },
    {
      "cell_type": "code",
      "execution_count": 46,
      "metadata": {
        "id": "k_XgdUh-xcQf"
      },
      "outputs": [],
      "source": [
        "class DecoderWithCoverage(nn.Module):\n",
        "    def __init__(self, hidden_size, output_size, dropout_rate, coverage_weight=0.2):\n",
        "        super(DecoderWithCoverage, self).__init__()\n",
        "        self.hidden_size = hidden_size\n",
        "        self.coverage_weight = coverage_weight\n",
        "\n",
        "        self.embedding = nn.Embedding(output_size, hidden_size)\n",
        "        self.dropout = nn.Dropout(dropout_rate)\n",
        "        self.lstm = nn.LSTM(hidden_size, hidden_size)\n",
        "        self.out = nn.Linear(hidden_size, output_size)\n",
        "        self.softmax = nn.LogSoftmax(dim=1)\n",
        "\n",
        "        self.Wc = nn.Linear(1, hidden_size, bias=False)  # Coverage vector weights\n",
        "        self.Wh = nn.Linear(hidden_size, hidden_size, bias=False)  # Hidden state weights\n",
        "        self.Ws = nn.Linear(hidden_size, hidden_size, bias=False)  # Decoder state weights\n",
        "        self.v = nn.Linear(hidden_size, 1, bias=False)  # Context vector weights\n",
        "\n",
        "    def forward(self, input, hidden, cell, coverage):\n",
        "        embedded = self.embedding(input).view(1, 1, -1)\n",
        "        embedded = self.dropout(embedded)\n",
        "\n",
        "        lstm_out, (hidden, cell) = self.lstm(embedded, (hidden, cell))\n",
        "\n",
        "        e = self.v(torch.tanh(self.Wh(hidden) + self.Ws(lstm_out) + self.Wc(coverage)))\n",
        "        attn_weights = F.softmax(e, dim=1)\n",
        "        coverage = coverage + attn_weights  # Update coverage vector\n",
        "\n",
        "        output = self.softmax(self.out(lstm_out[0]))\n",
        "        return output, hidden, cell, coverage, attn_weights\n",
        "\n",
        "    def init_hidden(self):\n",
        "        return (torch.zeros(1, 1, self.hidden_size, device=device),\n",
        "                torch.zeros(1, 1, self.hidden_size, device=device))\n",
        "\n",
        "    def init_coverage(self):\n",
        "        return torch.zeros(1, 1, 1, device=device)\n",
        "\n",
        "    def coverage_loss(self, attn_weights, coverage):\n",
        "        return torch.sum(torch.min(attn_weights, coverage))\n",
        "\n",
        "    def total_loss(self, output, target, attn_weights, coverage):\n",
        "        target = target.view(-1)  # Flatten target tensor\n",
        "        cross_entropy_loss = F.nll_loss(output, target)\n",
        "        cov_loss = self.coverage_loss(attn_weights, coverage)\n",
        "        return cross_entropy_loss + self.coverage_weight * cov_loss"
      ]
    },
    {
      "cell_type": "markdown",
      "source": [
        "### Training"
      ],
      "metadata": {
        "id": "Ndie7ERWbhri"
      }
    },
    {
      "cell_type": "code",
      "execution_count": 47,
      "metadata": {
        "id": "G_HKYQ2akbBL"
      },
      "outputs": [],
      "source": [
        "def train(input_tensor, target_tensor, encoder, decoder, encoder_optimizer, decoder_optimizer, criterion):\n",
        "    encoder_hidden, encoder_cell = encoder.init_hidden()\n",
        "\n",
        "    encoder_optimizer.zero_grad()\n",
        "    decoder_optimizer.zero_grad()\n",
        "\n",
        "    input_length = input_tensor.size(0)\n",
        "    target_length = target_tensor.size(0)\n",
        "\n",
        "    encoder_outputs = torch.zeros(input_length, encoder.hidden_size, device=device)\n",
        "    coverage = decoder.init_coverage()\n",
        "\n",
        "    loss = 0\n",
        "\n",
        "    for ei in range(input_length):\n",
        "        encoder_output, encoder_hidden, encoder_cell = encoder(input_tensor[ei], encoder_hidden, encoder_cell)\n",
        "        encoder_outputs[ei] = encoder_output[0, 0]\n",
        "\n",
        "    decoder_input = torch.tensor([[SOS_token]], device=device)\n",
        "    decoder_hidden = encoder_hidden\n",
        "    decoder_cell = encoder_cell\n",
        "\n",
        "    use_teacher_forcing = True if random.random() < teacher_forcing_ratio else False\n",
        "\n",
        "    if use_teacher_forcing:\n",
        "        for di in range(target_length):\n",
        "            decoder_output, decoder_hidden, decoder_cell, coverage, attn_weights = decoder(\n",
        "                decoder_input, decoder_hidden, decoder_cell, coverage)\n",
        "            loss += decoder.total_loss(decoder_output, target_tensor[di], attn_weights, coverage)\n",
        "            decoder_input = target_tensor[di]\n",
        "    else:\n",
        "        for di in range(target_length):\n",
        "            decoder_output, decoder_hidden, decoder_cell, coverage, attn_weights = decoder(\n",
        "                decoder_input, decoder_hidden, decoder_cell, coverage)\n",
        "            topv, topi = decoder_output.topk(1)\n",
        "            decoder_input = topi.squeeze().detach()\n",
        "            \n",
        "            loss += decoder.total_loss(decoder_output, target_tensor[di], attn_weights, coverage)\n",
        "            if decoder_input.item() == EOS_token:\n",
        "                break\n",
        "\n",
        "    loss.backward()\n",
        "\n",
        "    encoder_optimizer.step()\n",
        "    decoder_optimizer.step()\n",
        "\n",
        "    return loss.item() / target_length"
      ]
    },
    {
      "cell_type": "code",
      "execution_count": 75,
      "metadata": {
        "id": "vb276h1kmHcs"
      },
      "outputs": [],
      "source": [
        "def trainIters(encoder, decoder, n_iters, input_lang, output_lang, train_pairs, dev_pairs, print_every=1000, plot_every=100):\n",
        "    start = time.time()\n",
        "    plot_losses = []\n",
        "    print_loss_total = 0  # Reset every print_every\n",
        "    plot_loss_total = 0  # Reset every plot_every\n",
        "\n",
        "    encoder_optimizer = optim.Adam(encoder.parameters(), lr=learning_rate)\n",
        "    decoder_optimizer = optim.Adam(decoder.parameters(), lr=learning_rate)\n",
        "    training_pairs = [tensorsFromPair(input_lang, output_lang, random.choice(train_pairs))\n",
        "                      for i in range(n_iters)]\n",
        "    criterion = nn.NLLLoss()\n",
        "    dev_list = []\n",
        "    for iter in range(1, n_iters + 1):\n",
        "        training_pair = training_pairs[iter - 1]\n",
        "        input_tensor = training_pair[0]\n",
        "        target_tensor = training_pair[1]\n",
        "\n",
        "        loss = train(input_tensor, target_tensor, encoder,\n",
        "                     decoder, encoder_optimizer, decoder_optimizer, criterion)\n",
        "        print_loss_total += loss\n",
        "        plot_loss_total += loss\n",
        "\n",
        "        if iter % print_every == 0:\n",
        "            print_loss_avg = print_loss_total / print_every\n",
        "            print_loss_total = 0\n",
        "            \n",
        "            \n",
        "            # Calculate loss on dev set\n",
        "            dev_loss = 0\n",
        "            with torch.no_grad():\n",
        "                for dev_pair in dev_pairs:\n",
        "                    input_tensor = tensorFromSentence(input_lang, dev_pair[0])\n",
        "                    target_tensor = tensorFromSentence(output_lang, dev_pair[1])\n",
        "                    loss = calculate_loss_conv(input_tensor, target_tensor, encoder, decoder, criterion)\n",
        "                    dev_loss += loss\n",
        "            dev_loss_avg = dev_loss / len(dev_pairs)\n",
        "            print('%s (%d %d%%) %.4f' % (timeSince(start, iter / n_iters),\n",
        "                                         iter, iter / n_iters * 100, print_loss_avg))\n",
        "            print('Dev loss: %.4f' % dev_loss_avg)\n",
        "\n",
        "        if iter % plot_every == 0:\n",
        "            plot_loss_avg = plot_loss_total / plot_every\n",
        "            plot_losses.append(plot_loss_avg)\n",
        "            plot_loss_total = 0\n",
        "            dev_loss = 0\n",
        "            with torch.no_grad():\n",
        "                for dev_pair in dev_pairs:\n",
        "                    input_tensor = tensorFromSentence(input_lang, dev_pair[0])\n",
        "                    target_tensor = tensorFromSentence(output_lang, dev_pair[1])\n",
        "                    loss = calculate_loss_conv(input_tensor, target_tensor, encoder, decoder, criterion)\n",
        "                    dev_list.append(loss)\n",
        "                    dev_loss += loss\n",
        "            dev_loss_avg = dev_loss / len(dev_pairs)\n",
        "            dev_list.append(dev_loss_avg)\n",
        "\n",
        "    showPlot(plot_losses)\n",
        "    return plot_losses, dev_list"
      ]
    },
    {
      "cell_type": "markdown",
      "source": [
        "### Evaluation"
      ],
      "metadata": {
        "id": "ABUevwV0bunA"
      }
    },
    {
      "cell_type": "code",
      "source": [
        "def calculate_loss_conv(input_tensor, target_tensor, encoder, decoder, criterion, max_length=MAX_LENGTH):\n",
        "    encoder_hidden, encoder_cell = encoder.init_hidden()\n",
        "\n",
        "    input_length = min(input_tensor.size(0), max_length)\n",
        "    target_length = target_tensor.size(0)\n",
        "\n",
        "    encoder_outputs = torch.zeros(max_length, encoder.hidden_size, device=device)\n",
        "    coverage = decoder.init_coverage()\n",
        "\n",
        "    loss = 0\n",
        "\n",
        "    for ei in range(input_length):\n",
        "        encoder_output, encoder_hidden, encoder_cell = encoder(input_tensor[ei], encoder_hidden, encoder_cell)\n",
        "        encoder_outputs[ei] = encoder_output[0, 0]\n",
        "\n",
        "    decoder_input = torch.tensor([[SOS_token]], device=device)\n",
        "    decoder_hidden = encoder_hidden\n",
        "    decoder_cell = encoder_cell\n",
        "\n",
        "    for di in range(target_length):\n",
        "        decoder_output, decoder_hidden, decoder_cell, coverage, attn_weights = decoder(\n",
        "            decoder_input, decoder_hidden, decoder_cell, coverage)\n",
        "        topv, topi = decoder_output.topk(1)\n",
        "        decoder_input = topi.squeeze().detach()  # detach from history as input\n",
        "\n",
        "        loss += decoder.total_loss(decoder_output, target_tensor[di], attn_weights, coverage)\n",
        "        if decoder_input.item() == EOS_token:\n",
        "            break\n",
        "\n",
        "    return loss.item() / target_length"
      ],
      "metadata": {
        "id": "WymWn8bgbprA"
      },
      "execution_count": 76,
      "outputs": []
    },
    {
      "cell_type": "markdown",
      "source": [
        "Method to get prediction"
      ],
      "metadata": {
        "id": "HTpOZToycDa8"
      }
    },
    {
      "cell_type": "code",
      "source": [
        "def evaluateconv(encoder, decoder, input_lang, output_lang, pair, max_length=MAX_LENGTH):\n",
        "    with torch.no_grad():\n",
        "        input_tensor = tensorFromSentence(input_lang, pair)\n",
        "        input_length = input_tensor.size(0)\n",
        "        encoder_hidden, encoder_cell = encoder.init_hidden()\n",
        "\n",
        "        encoder_outputs = torch.zeros(max_length, encoder.hidden_size, device=device)\n",
        "        coverage = decoder.init_coverage() # Initialize coverage\n",
        "\n",
        "        for ei in range(input_length):\n",
        "            encoder_output, encoder_hidden, encoder_cell = encoder(input_tensor[ei], encoder_hidden, encoder_cell)\n",
        "            encoder_outputs[ei] = encoder_output[0, 0]\n",
        "\n",
        "        decoder_input = torch.tensor([[SOS_token]], device=device)\n",
        "        decoder_hidden = encoder_hidden\n",
        "        decoder_cell = encoder_cell\n",
        "\n",
        "        decoded_words = []\n",
        "        decoder_attentions = torch.zeros(max_length, max_length)\n",
        "\n",
        "        for di in range(max_length):\n",
        "            decoder_output, decoder_hidden, decoder_cell, coverage, attn_weights = decoder(decoder_input, decoder_hidden, decoder_cell, coverage) # Include coverage and attn_weights\n",
        "            topv, topi = decoder_output.data.topk(1)\n",
        "            if topi.item() == EOS_token:\n",
        "                decoded_words.append('<EOS>')\n",
        "                break\n",
        "            else:\n",
        "                #print(output_lang.index2word)\n",
        "                #print(topi.item())\n",
        "                decoded_words.append(output_lang.index2word[topi.item()])\n",
        "\n",
        "            decoder_input = topi.squeeze().detach()\n",
        "\n",
        "        return decoded_words\n"
      ],
      "metadata": {
        "id": "4hsmLZ6Ub4ba"
      },
      "execution_count": 50,
      "outputs": []
    },
    {
      "cell_type": "code",
      "source": [
        "def evaluateRandomly(encoder, decoder,input_lang, output_lang, pairs, n=10):\n",
        "    for i in range(n):\n",
        "        pair = random.choice(pairs)\n",
        "        print('>', pair[0])\n",
        "        print('=', pair[1])\n",
        "        output_words= evaluateconv(encoder, decoder,input_lang, output_lang, pair[0])\n",
        "        output_sentence = ' '.join(output_words)\n",
        "        print('<', output_sentence)\n",
        "        print('')"
      ],
      "metadata": {
        "id": "1n7tpvqTb5z-"
      },
      "execution_count": 77,
      "outputs": []
    },
    {
      "cell_type": "code",
      "execution_count": 52,
      "metadata": {
        "id": "KDoaPlsKmPER",
        "colab": {
          "base_uri": "https://localhost:8080/",
          "height": 1000
        },
        "outputId": "0d1c5558-080a-46c3-b3ef-f85f3aea1f5d"
      },
      "outputs": [
        {
          "output_type": "stream",
          "name": "stdout",
          "text": [
            "13m 57s (- 125m 38s) (4000 10%) 5.1251\n",
            "Dev loss: 8.0432\n",
            "28m 8s (- 112m 34s) (8000 20%) 4.3580\n",
            "Dev loss: 8.3260\n",
            "42m 15s (- 98m 35s) (12000 30%) 4.1609\n",
            "Dev loss: 6.1784\n",
            "56m 16s (- 84m 24s) (16000 40%) 4.0917\n",
            "Dev loss: 6.3902\n",
            "70m 11s (- 70m 11s) (20000 50%) 4.0194\n",
            "Dev loss: 5.0230\n",
            "84m 18s (- 56m 12s) (24000 60%) 3.9962\n",
            "Dev loss: 5.9059\n",
            "98m 27s (- 42m 11s) (28000 70%) 3.9433\n",
            "Dev loss: 6.6964\n",
            "112m 29s (- 28m 7s) (32000 80%) 3.9413\n",
            "Dev loss: 5.5122\n",
            "126m 17s (- 14m 1s) (36000 90%) 3.8863\n",
            "Dev loss: 8.5200\n",
            "140m 8s (- 0m 0s) (40000 100%) 3.9089\n",
            "Dev loss: 6.0257\n",
            "140m 8s (- 0m 0s) (40000 100%) 3.9089\n",
            "Dev loss: 6.0257\n"
          ]
        },
        {
          "output_type": "display_data",
          "data": {
            "text/plain": [
              "<Figure size 640x480 with 0 Axes>"
            ]
          },
          "metadata": {}
        },
        {
          "output_type": "display_data",
          "data": {
            "text/plain": [
              "<Figure size 640x480 with 0 Axes>"
            ]
          },
          "metadata": {}
        },
        {
          "output_type": "display_data",
          "data": {
            "text/plain": [
              "<Figure size 640x480 with 1 Axes>"
            ],
            "image/png": "[encoded data removed]"
          },
          "metadata": {}
        },
        {
          "output_type": "display_data",
          "data": {
            "text/plain": [
              "<Figure size 640x480 with 1 Axes>"
            ],
            "image/png": "[encoded data removed]"
          },
          "metadata": {}
        }
      ],
      "source": [
        "hidden_size = 256\n",
        "encoder4 = Encoder(input_lang_train.n_words, hidden_size, dropout_rate).to(device)\n",
        "decoder4 = DecoderWithCoverage(hidden_size, output_lang_train.n_words, dropout_rate).to(device)\n",
        "model_train_4, model_dev_4 = trainIters(encoder4, decoder4, 40000, input_lang_train, output_lang_train, pairs_train, pairs_dev, print_every=4000, plot_every=4000)\n"
      ]
    },
    {
      "cell_type": "code",
      "execution_count": 58,
      "metadata": {
        "id": "YPZnElLVspxj",
        "colab": {
          "base_uri": "https://localhost:8080/"
        },
        "outputId": "dcb8071d-4d57-4460-e439-20ce46e83033"
      },
      "outputs": [
        {
          "output_type": "stream",
          "name": "stdout",
          "text": [
            "> 6 c white or red potatoes 1 tb soft marg 12 c minced fresh mint 1 tb fresh lemon juice\n",
            "= quarter and slice potatoes in large saucepan boil potatoes in water until tender about 10 min drain in large saute pan melt marg saute mint with lemon juice for 1 min add potatoes and toss to coat reheat serve\n",
            "< in a large bowl combine all ingredients except the nuts and mix well chill until ready to serve <EOS>\n",
            "\n",
            "> 12 oz rotelle pasta 9 oz frozen frenchcut green beans 12 lb turkey ham thinly sliced 2 tb corn oil margarine 14 c unbleached flour 2 c nonfat milk 14 c dry white wine 4 oz brie cheese rind removed ut into chunks 2 oz reducedfat monterey jack cheese shredded\n",
            "= cook pasta according to package directions adding green beans during last 2 minutes of cooking cut turkey ham into thin strips and set aside meanwhile in medium saucepan melt margarine stir in flour and cook 2 minutes stirring constantly gradually add milk bring to a boil whisking until smooth add wine to sauce boil 1 minute whisking constantly until sauce thickens reduce heat to low and gradually add cheeses whisking after each addition until melted keep sauce warm stirring occasionally drain pasta and beans and place in large serving bowl add turkey ham and toss then add cheese sauce and continue tossing until wellcoated\n",
            "< in a large bowl combine all ingredients except the cheese and mix well pour over the crust bake for 30 minutes or until the top is golden brown <EOS>\n",
            "\n",
            "> 1 lb unsalted butter 3 small red chiles 6 cloves garlic 1 tb paprika 12 ts chile powder lemon or lime juice\n",
            "= pound chiles and garlic in a mortar lrb or process rrb add to melted butter lrb in africa usually clarified butler rrb with paprika and chile powder mix well for chicken wings or breasts or fish or prawns marinate meat for 510 minutes baste with sauce while cooking and spoon sauce over before serving\n",
            "< in a large bowl combine all ingredients except oil in a large bowl and mix well pour over chicken and marinate in refrigerator for at least 30 minutes before serving <EOS>\n",
            "\n",
            "> 1 lb unsalted butter 3 small red chiles 6 cloves garlic 1 tb paprika 12 ts chile powder lemon or lime juice\n",
            "= pound chiles and garlic in a mortar lrb or process rrb add to melted butter lrb in africa usually clarified butler rrb with paprika and chile powder mix well for chicken wings or breasts or fish or prawns marinate meat for 510 minutes baste with sauce while cooking and spoon sauce over before serving\n",
            "< in a large bowl combine all ingredients and mix well refrigerate at least 2 hours before serving <EOS>\n",
            "\n",
            "> 1 c plain nonfat yogurt 2 tb finely chopped fresh dill 1 tb red wine vinegar salt and freshly ground pepper 1 2lb salmon fillet1 thick cleaned of skin and sinew 1 tb canola oil 12 ts salt 12 ts freshly ground pepper 1 md cucumber curly leaf lettuce 4 ripe tomatoes finely sliced 2 md red onions peeled and sliced thinly and separated into rings 1 lemon halved lengthwise and thinly sliced\n",
            "= stir together the yogurt dill vinegar salt and pepper refrigerate sprinkle salmon on both sides with oil salt and pepper heat grill until very hot place salmon on the grill and cook covered until flaky about 312 minutes on each side transfer to a serving plate and allow to rest for at least 5 minutes carve into 12inch slices place salmon in a bowl and toss with the dressing cover and refrigerate just before serving peel cucumber and cut in half lengthwise using a small spoon scrape down the center to remove seeds thinly slice mound salmon mixture in center of a large platter lined with lettuce leaves surround with cucumber tomatoes onions and lemon slices garnish with additional dill if desired 288 cal\n",
            "< in a large bowl combine all ingredients except oil in a large bowl and add to the mixture and mix well pour into a greased and floured 9 x 5 x 2 loaf pan bake at 350 degrees for about 45 minutes or until the top is golden brown <EOS>\n",
            "\n"
          ]
        }
      ],
      "source": [
        "evaluateRandomly(encoder4, decoder4, input_lang_train, output_lang_train, pairs_test, n=5)"
      ]
    },
    {
      "cell_type": "markdown",
      "source": [
        "### Quantitative Evaluation"
      ],
      "metadata": {
        "id": "e5TnHdUVwKRY"
      }
    },
    {
      "cell_type": "code",
      "execution_count": 59,
      "metadata": {
        "id": "58G7c5yLQKjD",
        "colab": {
          "base_uri": "https://localhost:8080/"
        },
        "outputId": "658c5fc0-b3ae-49e9-d3ae-421ebf2d85a9"
      },
      "outputs": [
        {
          "output_type": "stream",
          "name": "stderr",
          "text": [
            "[nltk_data] Downloading package wordnet to /root/nltk_data...\n",
            "[nltk_data]   Package wordnet is already up-to-date!\n"
          ]
        }
      ],
      "source": [
        "from nltk.translate.bleu_score import sentence_bleu\n",
        "from nltk.translate.meteor_score import single_meteor_score\n",
        "import pandas as pd\n",
        "from nltk.translate.bleu_score import SmoothingFunction\n",
        "import nltk\n",
        "nltk.download('wordnet')\n",
        "def avg_given_items(reference, hypothesis):\n",
        "    count = 0\n",
        "    for word in reference:\n",
        "        if word in hypothesis:\n",
        "            count += 1\n",
        "    return count / len(reference) if len(reference) != 0 else 0\n",
        "\n",
        "def avg_extra_items(reference, hypothesis):\n",
        "    count = 0\n",
        "    for word in hypothesis:\n",
        "        if word not in reference:\n",
        "            count += 1\n",
        "    return count / len(hypothesis) if len(hypothesis) != 0 else 0\n",
        "\n",
        "\n",
        "\n",
        "\n"
      ]
    },
    {
      "cell_type": "code",
      "execution_count": null,
      "metadata": {
        "id": "XNqenCZyV-oH"
      },
      "outputs": [],
      "source": [
        "def evaluate_metrics(reference, hypothesis):\n",
        "    # Transform the inputs into word lists\n",
        "    reference_words = reference\n",
        "    hypothesis_words = hypothesis\n",
        "\n",
        "    # Transform lists of words into sentences\n",
        "    reference_sentence = ' '.join(reference_words)\n",
        "    hypothesis_sentence = ' '.join(hypothesis_words)\n",
        "\n",
        "    # Calculate BLEU and METEOR scores\n",
        "    smoothie = SmoothingFunction().method4\n",
        "    bleu = sentence_bleu([reference_words], hypothesis_words, smoothing_function=smoothie)\n",
        "    meteor = single_meteor_score(reference, hypothesis)\n",
        "\n",
        "    # Calculate Average % given items and Average extra items\n",
        "    avg_given, avg_extra = avg_given_items(reference_words, hypothesis_words), avg_extra_items(reference_words, hypothesis_words)\n",
        "    return bleu, meteor, avg_given, avg_extra"
      ]
    },
    {
      "cell_type": "code",
      "execution_count": 63,
      "metadata": {
        "id": "Fl6hJjzhQooo"
      },
      "outputs": [],
      "source": [
        "def evaluate_and_get_metrics(modelName, encoder, decoder, input_lang, output_lang, pairs):\n",
        "    total_bleu = 0\n",
        "    total_meteor = 0\n",
        "    total_avg_given = 0\n",
        "    total_avg_extra = 0\n",
        "    num_pairs = len(pairs)\n",
        "    results = []\n",
        "    for pair in pairs:\n",
        "        input_sentence = pair[0]\n",
        "        output_sentence = pair[1]\n",
        "        reference = output_sentence.split()  # split the string into a list of words\n",
        "        if modelName == \"Converge Mechanism\":\n",
        "          hypothesis = evaluateconv(encoder, decoder, input_lang, output_lang, input_sentence)  # Pass the entire pair\n",
        "        elif modelName == \"baseline1\":\n",
        "          hypothesis = evaluate1(encoder, decoder, input_lang, output_lang, input_sentence)\n",
        "        elif modelName == \"baseline2\":\n",
        "          hypothesis = evaluate_attn(encoder, decoder, input_lang, output_lang, input_sentence)\n",
        "        elif modelName == \"topK Sampling\":\n",
        "          hypothesis = evaluate3(encoder, decoder, input_lang, output_lang, input_sentence)\n",
        "        if '<EOS>' in hypothesis:  # Remove EOS token if it is present\n",
        "            hypothesis.remove('<EOS>')\n",
        "        \n",
        "        bleu, meteor, avg_given, avg_extra = evaluate_metrics(reference, hypothesis)\n",
        "        total_bleu += bleu\n",
        "        total_meteor += meteor\n",
        "        total_avg_given += avg_given\n",
        "        total_avg_extra += avg_extra\n",
        "    avg_bleu = total_bleu / num_pairs\n",
        "    avg_meteor = total_meteor / num_pairs\n",
        "    avg_given = total_avg_given / num_pairs\n",
        "    avg_extra = total_avg_extra / num_pairs\n",
        "    results.append([modelName, avg_bleu, avg_meteor, avg_given, avg_extra])\n",
        "    return results"
      ]
    },
    {
      "cell_type": "code",
      "execution_count": 64,
      "metadata": {
        "id": "Hz7L11fBsxGJ",
        "colab": {
          "base_uri": "https://localhost:8080/",
          "height": 174
        },
        "outputId": "a789a81f-e6db-4b99-dd9e-13ab38baeede"
      },
      "outputs": [
        {
          "output_type": "execute_result",
          "data": {
            "text/plain": [
              "           Model Name      BLEU    METEOR  Avg. % given items  \\\n",
              "0           baseline1  0.013229  0.124881            0.263263   \n",
              "1           baseline2  0.003654  0.030913            0.091910   \n",
              "2       topK Sampling  0.026032  0.153213            0.303827   \n",
              "3  Converge Mechanism  0.018015  0.121907            0.264701   \n",
              "\n",
              "   Avg. extra items  \n",
              "0          0.557720  \n",
              "1          0.923985  \n",
              "2          0.592057  \n",
              "3          0.646822  "
            ],
            "text/html": [
              "\n",
              "  <div id=\"df-0dd78ddf-e80e-4dc9-8e62-12f31301c5f3\">\n",
              "    <div class=\"colab-df-container\">\n",
              "      <div>\n",
              "<style scoped>\n",
              "    .dataframe tbody tr th:only-of-type {\n",
              "        vertical-align: middle;\n",
              "    }\n",
              "\n",
              "    .dataframe tbody tr th {\n",
              "        vertical-align: top;\n",
              "    }\n",
              "\n",
              "    .dataframe thead th {\n",
              "        text-align: right;\n",
              "    }\n",
              "</style>\n",
              "<table border=\"1\" class=\"dataframe\">\n",
              "  <thead>\n",
              "    <tr style=\"text-align: right;\">\n",
              "      <th></th>\n",
              "      <th>Model Name</th>\n",
              "      <th>BLEU</th>\n",
              "      <th>METEOR</th>\n",
              "      <th>Avg. % given items</th>\n",
              "      <th>Avg. extra items</th>\n",
              "    </tr>\n",
              "  </thead>\n",
              "  <tbody>\n",
              "    <tr>\n",
              "      <th>0</th>\n",
              "      <td>baseline1</td>\n",
              "      <td>0.013229</td>\n",
              "      <td>0.124881</td>\n",
              "      <td>0.263263</td>\n",
              "      <td>0.557720</td>\n",
              "    </tr>\n",
              "    <tr>\n",
              "      <th>1</th>\n",
              "      <td>baseline2</td>\n",
              "      <td>0.003654</td>\n",
              "      <td>0.030913</td>\n",
              "      <td>0.091910</td>\n",
              "      <td>0.923985</td>\n",
              "    </tr>\n",
              "    <tr>\n",
              "      <th>2</th>\n",
              "      <td>topK Sampling</td>\n",
              "      <td>0.026032</td>\n",
              "      <td>0.153213</td>\n",
              "      <td>0.303827</td>\n",
              "      <td>0.592057</td>\n",
              "    </tr>\n",
              "    <tr>\n",
              "      <th>3</th>\n",
              "      <td>Converge Mechanism</td>\n",
              "      <td>0.018015</td>\n",
              "      <td>0.121907</td>\n",
              "      <td>0.264701</td>\n",
              "      <td>0.646822</td>\n",
              "    </tr>\n",
              "  </tbody>\n",
              "</table>\n",
              "</div>\n",
              "      <button class=\"colab-df-convert\" onclick=\"convertToInteractive('df-0dd78ddf-e80e-4dc9-8e62-12f31301c5f3')\"\n",
              "              title=\"Convert this dataframe to an interactive table.\"\n",
              "              style=\"display:none;\">\n",
              "        \n",
              "  <svg xmlns=\"http://www.w3.org/2000/svg\" height=\"24px\"viewBox=\"0 0 24 24\"\n",
              "       width=\"24px\">\n",
              "    <path d=\"M0 0h24v24H0V0z\" fill=\"none\"/>\n",
              "    <path d=\"M18.56 5.44l.94 2.06.94-2.06 2.06-.94-2.06-.94-.94-2.06-.94 2.06-2.06.94zm-11 1L8.5 8.5l.94-2.06 2.06-.94-2.06-.94L8.5 2.5l-.94 2.06-2.06.94zm10 10l.94 2.06.94-2.06 2.06-.94-2.06-.94-.94-2.06-.94 2.06-2.06.94z\"/><path d=\"M17.41 7.96l-1.37-1.37c-.4-.4-.92-.59-1.43-.59-.52 0-1.04.2-1.43.59L10.3 9.45l-7.72 7.72c-.78.78-.78 2.05 0 2.83L4 21.41c.39.39.9.59 1.41.59.51 0 1.02-.2 1.41-.59l7.78-7.78 2.81-2.81c.8-.78.8-2.07 0-2.86zM5.41 20L4 18.59l7.72-7.72 1.47 1.35L5.41 20z\"/>\n",
              "  </svg>\n",
              "      </button>\n",
              "      \n",
              "  <style>\n",
              "    .colab-df-container {\n",
              "      display:flex;\n",
              "      flex-wrap:wrap;\n",
              "      gap: 12px;\n",
              "    }\n",
              "\n",
              "    .colab-df-convert {\n",
              "      background-color: #E8F0FE;\n",
              "      border: none;\n",
              "      border-radius: 50%;\n",
              "      cursor: pointer;\n",
              "      display: none;\n",
              "      fill: #1967D2;\n",
              "      height: 32px;\n",
              "      padding: 0 0 0 0;\n",
              "      width: 32px;\n",
              "    }\n",
              "\n",
              "    .colab-df-convert:hover {\n",
              "      background-color: #E2EBFA;\n",
              "      box-shadow: 0px 1px 2px rgba(60, 64, 67, 0.3), 0px 1px 3px 1px rgba(60, 64, 67, 0.15);\n",
              "      fill: #174EA6;\n",
              "    }\n",
              "\n",
              "    [theme=dark] .colab-df-convert {\n",
              "      background-color: #3B4455;\n",
              "      fill: #D2E3FC;\n",
              "    }\n",
              "\n",
              "    [theme=dark] .colab-df-convert:hover {\n",
              "      background-color: #434B5C;\n",
              "      box-shadow: 0px 1px 3px 1px rgba(0, 0, 0, 0.15);\n",
              "      filter: drop-shadow(0px 1px 2px rgba(0, 0, 0, 0.3));\n",
              "      fill: #FFFFFF;\n",
              "    }\n",
              "  </style>\n",
              "\n",
              "      <script>\n",
              "        const buttonEl =\n",
              "          document.querySelector('#df-0dd78ddf-e80e-4dc9-8e62-12f31301c5f3 button.colab-df-convert');\n",
              "        buttonEl.style.display =\n",
              "          google.colab.kernel.accessAllowed ? 'block' : 'none';\n",
              "\n",
              "        async function convertToInteractive(key) {\n",
              "          const element = document.querySelector('#df-0dd78ddf-e80e-4dc9-8e62-12f31301c5f3');\n",
              "          const dataTable =\n",
              "            await google.colab.kernel.invokeFunction('convertToInteractive',\n",
              "                                                     [key], {});\n",
              "          if (!dataTable) return;\n",
              "\n",
              "          const docLinkHtml = 'Like what you see? Visit the ' +\n",
              "            '<a target=\"_blank\" href=https://colab.research.google.com/notebooks/data_table.ipynb>data table notebook</a>'\n",
              "            + ' to learn more about interactive tables.';\n",
              "          element.innerHTML = '';\n",
              "          dataTable['output_type'] = 'display_data';\n",
              "          await google.colab.output.renderOutput(dataTable, element);\n",
              "          const docLink = document.createElement('div');\n",
              "          docLink.innerHTML = docLinkHtml;\n",
              "          element.appendChild(docLink);\n",
              "        }\n",
              "      </script>\n",
              "    </div>\n",
              "  </div>\n",
              "  "
            ]
          },
          "metadata": {},
          "execution_count": 64
        }
      ],
      "source": [
        "result = []\n",
        "results = evaluate_and_get_metrics(\"baseline1\", encoder1, decoder1, input_lang_train, output_lang_train, pairs_test)\n",
        "\n",
        "\n",
        "\n",
        "#results.append(evaluate_and_get_metrics(\"baseline1\", encoder1, decoder1, input_lang_train, output_lang_train, pairs_test))\n",
        "results.append(evaluate_and_get_metrics(\"baseline2\",encoder2, decoder2, input_lang_train, output_lang_train, pairs_test))\n",
        "results.append(evaluate_and_get_metrics(\"topK Sampling\", encoder3, decoder3, input_lang_train, output_lang_train, pairs_test))\n",
        "\n",
        "results.append(evaluate_and_get_metrics(\"Converge Mechanism\", encoder4, decoder4, input_lang_train, output_lang_train, pairs_test))\n",
        "\n",
        "flattened_list = [item[0] if isinstance(item[0], list) else item for item in results]\n",
        "\n",
        "\n",
        "# Convert results to a Pandas DataFrame and display\n",
        "df = pd.DataFrame(flattened_list, columns=['Model Name','BLEU', 'METEOR', 'Avg. % given items', 'Avg. extra items'])\n",
        "df"
      ]
    },
    {
      "cell_type": "markdown",
      "source": [
        "### ANALYSIS"
      ],
      "metadata": {
        "id": "9LevzYI2XwGu"
      }
    },
    {
      "cell_type": "code",
      "source": [
        "import matplotlib.pyplot as plt\n",
        "\n",
        "# let's assume you have your losses stored in the following lists:\n",
        "# replace these with your actual data\n",
        "training_losses_model1 = model_train_1\n",
        "validation_losses_model1 = model_dev_1\n",
        "\n",
        "training_losses_model2 = model_train_2\n",
        "validation_losses_model2 = model_dev_2\n",
        "\n",
        "training_losses_model3 = model_train_3\n",
        "validation_losses_model3 = model_dev_3\n",
        "\n",
        "training_losses_model4 = model_train_4\n",
        "validation_losses_model4 = model_dev_4\n",
        "\n",
        "# create a new figure\n",
        "plt.figure(figsize=(15,10))\n",
        "\n",
        "# plot training and validation losses for model1\n",
        "plt.plot(training_losses_model1, color='blue', linestyle='solid', label='Model 1 Training')\n",
        "plt.plot(validation_losses_model1, color='blue', linestyle='dashed', label='Model 1 Validation')\n",
        "\n",
        "# plot training and validation losses for model2\n",
        "plt.plot(training_losses_model2, color='red', linestyle='solid', label='Model 2 Training')\n",
        "plt.plot(validation_losses_model2, color='red', linestyle='dashed', label='Model 2 Validation')\n",
        "\n",
        "# plot training and validation losses for model3\n",
        "plt.plot(training_losses_model3, color='green', linestyle='solid', label='Model 3 Training')\n",
        "plt.plot(validation_losses_model3, color='green', linestyle='dashed', label='Model 3 Validation')\n",
        "\n",
        "# plot training and validation losses for model4\n",
        "plt.plot(training_losses_model4, color='purple', linestyle='solid', label='Model 4 Training')\n",
        "plt.plot(validation_losses_model4, color='purple', linestyle='dashed', label='Model 4 Validation')\n",
        "\n",
        "# add legend, labels and title\n",
        "plt.legend()\n",
        "plt.xlabel('Iterations')\n",
        "plt.ylabel('Loss')\n",
        "plt.title('Training and Validation Losses for Models')\n",
        "\n",
        "# show the plot\n",
        "plt.show()"
      ],
      "metadata": {
        "colab": {
          "base_uri": "https://localhost:8080/",
          "height": 872
        },
        "id": "L0gqG70qX0vY",
        "outputId": "486669fe-1354-4cca-83b3-594b11f32b3f"
      },
      "execution_count": 84,
      "outputs": [
        {
          "output_type": "display_data",
          "data": {
            "text/plain": [
              "<Figure size 1500x1000 with 1 Axes>"
            ],
            "image/png": "[encoded data removed]"
          },
          "metadata": {}
        }
      ]
    },
    {
      "cell_type": "markdown",
      "source": [
        "### DATA STATISTICS"
      ],
      "metadata": {
        "id": "STzI7IcFaf0P"
      }
    },
    {
      "cell_type": "code",
      "source": [
        "def get_data_stats(data):\n",
        "    num_samples = len(data)\n",
        "    vocab_size = len(set(' '.join(data).split()))\n",
        "    lengths = [len(s.split()) for s in data]\n",
        "    min_length = min(lengths)\n",
        "    max_length = max(lengths)\n",
        "    avg_length = np.mean(lengths)\n",
        "    return num_samples, vocab_size, min_length, max_length, avg_length"
      ],
      "metadata": {
        "id": "e0ET4q9ualhK"
      },
      "execution_count": 85,
      "outputs": []
    },
    {
      "cell_type": "code",
      "source": [
        "from collections import Counter\n",
        "\n",
        "import pandas as pd\n",
        "\n",
        "# Prepare an empty DataFrame\n",
        "df = pd.DataFrame(columns=['Dataset', 'Data Type', 'Number of Samples', 'Vocabulary Size', 'Min Length', 'Max Length', 'Average Length'])\n",
        "\n",
        "# Define a helper function to append rows to the DataFrame\n",
        "def add_row(df, dataset, data_type, data):\n",
        "    num_samples, vocab_size, min_length, max_length, avg_length = get_data_stats(data)\n",
        "    row = [dataset, data_type, num_samples, vocab_size, min_length, max_length, avg_length]\n",
        "    df.loc[len(df)] = row\n",
        "\n",
        "# Append data statistics to the DataFrame\n",
        "add_row(df, 'Train', 'Ingredients', ingredientsTrain)\n",
        "add_row(df, 'Train', 'Recipes', recipesTrain)\n",
        "add_row(df, 'Dev', 'Ingredients', ingredientsDev)\n",
        "add_row(df, 'Dev', 'Recipes', recipesDev)\n",
        "add_row(df, 'Test', 'Ingredients', ingredientsTest)\n",
        "add_row(df, 'Test', 'Recipes', recipesTest)\n",
        "\n",
        "# Define a helper function to get more stats\n",
        "def get_more_data_stats(data):\n",
        "    unique_count = len(set(data))\n",
        "    word_list = ' '.join(data).split()\n",
        "    word_counter = Counter(word_list)\n",
        "    most_common_word, most_common_word_freq = word_counter.most_common(1)[0]\n",
        "    least_common_word, least_common_word_freq = word_counter.most_common()[-1]\n",
        "    median_length = np.median([len(s.split()) for s in data])\n",
        "    std_dev_length = np.std([len(s.split()) for s in data])\n",
        "    return unique_count, most_common_word, most_common_word_freq, least_common_word, least_common_word_freq, median_length, std_dev_length\n",
        "\n",
        "# Extend the columns of DataFrame\n",
        "df = pd.DataFrame(columns=['Dataset', 'Data Type', 'Number of Samples', 'Vocabulary Size', 'Min Length', 'Max Length', 'Average Length', 'Unique Count', 'Most Common Word', 'Most Common Word Frequency', 'Least Common Word', 'Least Common Word Frequency', 'Median Length', 'Std Dev of Lengths'])\n",
        "\n",
        "# Redefine the helper function to append rows to the DataFrame\n",
        "def add_row(df, dataset, data_type, data):\n",
        "    num_samples, vocab_size, min_length, max_length, avg_length = get_data_stats(data)\n",
        "    unique_count, most_common_word, most_common_word_freq, least_common_word, least_common_word_freq, median_length, std_dev_length = get_more_data_stats(data)\n",
        "    row = [dataset, data_type, num_samples, vocab_size, min_length, max_length, avg_length, unique_count, most_common_word, most_common_word_freq, least_common_word, least_common_word_freq, median_length, std_dev_length]\n",
        "    df.loc[len(df)] = row\n",
        "\n",
        "# Append data statistics to the DataFrame\n",
        "add_row(df, 'Train', 'Ingredients', ingredientsTrain)\n",
        "add_row(df, 'Train', 'Recipes', recipesTrain)\n",
        "add_row(df, 'Dev', 'Ingredients', ingredientsDev)\n",
        "add_row(df, 'Dev', 'Recipes', recipesDev)\n",
        "add_row(df, 'Test', 'Ingredients', ingredientsTest)\n",
        "add_row(df, 'Test', 'Recipes', recipesTest)\n",
        "\n",
        "# Print the DataFrame\n",
        "df"
      ],
      "metadata": {
        "colab": {
          "base_uri": "https://localhost:8080/",
          "height": 237
        },
        "id": "2VmM29l3anQ9",
        "outputId": "b4cfb6be-58ae-4182-9398-1c46a46eb680"
      },
      "execution_count": 88,
      "outputs": [
        {
          "output_type": "execute_result",
          "data": {
            "text/plain": [
              "  Dataset    Data Type  Number of Samples  Vocabulary Size  Min Length  \\\n",
              "0   Train  Ingredients             143907            29564           0   \n",
              "1   Train      Recipes             143907            52631           0   \n",
              "2     Dev  Ingredients               1000             2658           1   \n",
              "3     Dev      Recipes               1000             4862           2   \n",
              "4    Test  Ingredients               1000             2488           1   \n",
              "5    Test      Recipes               1000             4688           2   \n",
              "\n",
              "   Max Length  Average Length  Unique Count Most Common Word  \\\n",
              "0         417       41.703878        120992                1   \n",
              "1         796       90.258083         91038              and   \n",
              "2         167       40.600000           992                1   \n",
              "3         550       87.681000           999              and   \n",
              "4         180       39.808000           993                1   \n",
              "5         732       89.017000          1000              and   \n",
              "\n",
              "   Most Common Word Frequency Least Common Word  Least Common Word Frequency  \\\n",
              "0                      468757             letus                            1   \n",
              "1                      663339              matm                            1   \n",
              "2                        3084       lemongarlic                            1   \n",
              "3                        4536          sweethot                            1   \n",
              "4                        3054          ndrained                            1   \n",
              "5                        4510            snakes                            1   \n",
              "\n",
              "   Median Length  Std Dev of Lengths  \n",
              "0           39.0           20.850720  \n",
              "1           75.0           65.243460  \n",
              "2           38.0           21.916158  \n",
              "3           74.0           63.453946  \n",
              "4           38.0           20.081363  \n",
              "5           73.0           67.170192  "
            ],
            "text/html": [
              "\n",
              "  <div id=\"df-da2bbe96-454e-41e5-8b36-992d5a80e691\">\n",
              "    <div class=\"colab-df-container\">\n",
              "      <div>\n",
              "<style scoped>\n",
              "    .dataframe tbody tr th:only-of-type {\n",
              "        vertical-align: middle;\n",
              "    }\n",
              "\n",
              "    .dataframe tbody tr th {\n",
              "        vertical-align: top;\n",
              "    }\n",
              "\n",
              "    .dataframe thead th {\n",
              "        text-align: right;\n",
              "    }\n",
              "</style>\n",
              "<table border=\"1\" class=\"dataframe\">\n",
              "  <thead>\n",
              "    <tr style=\"text-align: right;\">\n",
              "      <th></th>\n",
              "      <th>Dataset</th>\n",
              "      <th>Data Type</th>\n",
              "      <th>Number of Samples</th>\n",
              "      <th>Vocabulary Size</th>\n",
              "      <th>Min Length</th>\n",
              "      <th>Max Length</th>\n",
              "      <th>Average Length</th>\n",
              "      <th>Unique Count</th>\n",
              "      <th>Most Common Word</th>\n",
              "      <th>Most Common Word Frequency</th>\n",
              "      <th>Least Common Word</th>\n",
              "      <th>Least Common Word Frequency</th>\n",
              "      <th>Median Length</th>\n",
              "      <th>Std Dev of Lengths</th>\n",
              "    </tr>\n",
              "  </thead>\n",
              "  <tbody>\n",
              "    <tr>\n",
              "      <th>0</th>\n",
              "      <td>Train</td>\n",
              "      <td>Ingredients</td>\n",
              "      <td>143907</td>\n",
              "      <td>29564</td>\n",
              "      <td>0</td>\n",
              "      <td>417</td>\n",
              "      <td>41.703878</td>\n",
              "      <td>120992</td>\n",
              "      <td>1</td>\n",
              "      <td>468757</td>\n",
              "      <td>letus</td>\n",
              "      <td>1</td>\n",
              "      <td>39.0</td>\n",
              "      <td>20.850720</td>\n",
              "    </tr>\n",
              "    <tr>\n",
              "      <th>1</th>\n",
              "      <td>Train</td>\n",
              "      <td>Recipes</td>\n",
              "      <td>143907</td>\n",
              "      <td>52631</td>\n",
              "      <td>0</td>\n",
              "      <td>796</td>\n",
              "      <td>90.258083</td>\n",
              "      <td>91038</td>\n",
              "      <td>and</td>\n",
              "      <td>663339</td>\n",
              "      <td>matm</td>\n",
              "      <td>1</td>\n",
              "      <td>75.0</td>\n",
              "      <td>65.243460</td>\n",
              "    </tr>\n",
              "    <tr>\n",
              "      <th>2</th>\n",
              "      <td>Dev</td>\n",
              "      <td>Ingredients</td>\n",
              "      <td>1000</td>\n",
              "      <td>2658</td>\n",
              "      <td>1</td>\n",
              "      <td>167</td>\n",
              "      <td>40.600000</td>\n",
              "      <td>992</td>\n",
              "      <td>1</td>\n",
              "      <td>3084</td>\n",
              "      <td>lemongarlic</td>\n",
              "      <td>1</td>\n",
              "      <td>38.0</td>\n",
              "      <td>21.916158</td>\n",
              "    </tr>\n",
              "    <tr>\n",
              "      <th>3</th>\n",
              "      <td>Dev</td>\n",
              "      <td>Recipes</td>\n",
              "      <td>1000</td>\n",
              "      <td>4862</td>\n",
              "      <td>2</td>\n",
              "      <td>550</td>\n",
              "      <td>87.681000</td>\n",
              "      <td>999</td>\n",
              "      <td>and</td>\n",
              "      <td>4536</td>\n",
              "      <td>sweethot</td>\n",
              "      <td>1</td>\n",
              "      <td>74.0</td>\n",
              "      <td>63.453946</td>\n",
              "    </tr>\n",
              "    <tr>\n",
              "      <th>4</th>\n",
              "      <td>Test</td>\n",
              "      <td>Ingredients</td>\n",
              "      <td>1000</td>\n",
              "      <td>2488</td>\n",
              "      <td>1</td>\n",
              "      <td>180</td>\n",
              "      <td>39.808000</td>\n",
              "      <td>993</td>\n",
              "      <td>1</td>\n",
              "      <td>3054</td>\n",
              "      <td>ndrained</td>\n",
              "      <td>1</td>\n",
              "      <td>38.0</td>\n",
              "      <td>20.081363</td>\n",
              "    </tr>\n",
              "    <tr>\n",
              "      <th>5</th>\n",
              "      <td>Test</td>\n",
              "      <td>Recipes</td>\n",
              "      <td>1000</td>\n",
              "      <td>4688</td>\n",
              "      <td>2</td>\n",
              "      <td>732</td>\n",
              "      <td>89.017000</td>\n",
              "      <td>1000</td>\n",
              "      <td>and</td>\n",
              "      <td>4510</td>\n",
              "      <td>snakes</td>\n",
              "      <td>1</td>\n",
              "      <td>73.0</td>\n",
              "      <td>67.170192</td>\n",
              "    </tr>\n",
              "  </tbody>\n",
              "</table>\n",
              "</div>\n",
              "      <button class=\"colab-df-convert\" onclick=\"convertToInteractive('df-da2bbe96-454e-41e5-8b36-992d5a80e691')\"\n",
              "              title=\"Convert this dataframe to an interactive table.\"\n",
              "              style=\"display:none;\">\n",
              "        \n",
              "  <svg xmlns=\"http://www.w3.org/2000/svg\" height=\"24px\"viewBox=\"0 0 24 24\"\n",
              "       width=\"24px\">\n",
              "    <path d=\"M0 0h24v24H0V0z\" fill=\"none\"/>\n",
              "    <path d=\"M18.56 5.44l.94 2.06.94-2.06 2.06-.94-2.06-.94-.94-2.06-.94 2.06-2.06.94zm-11 1L8.5 8.5l.94-2.06 2.06-.94-2.06-.94L8.5 2.5l-.94 2.06-2.06.94zm10 10l.94 2.06.94-2.06 2.06-.94-2.06-.94-.94-2.06-.94 2.06-2.06.94z\"/><path d=\"M17.41 7.96l-1.37-1.37c-.4-.4-.92-.59-1.43-.59-.52 0-1.04.2-1.43.59L10.3 9.45l-7.72 7.72c-.78.78-.78 2.05 0 2.83L4 21.41c.39.39.9.59 1.41.59.51 0 1.02-.2 1.41-.59l7.78-7.78 2.81-2.81c.8-.78.8-2.07 0-2.86zM5.41 20L4 18.59l7.72-7.72 1.47 1.35L5.41 20z\"/>\n",
              "  </svg>\n",
              "      </button>\n",
              "      \n",
              "  <style>\n",
              "    .colab-df-container {\n",
              "      display:flex;\n",
              "      flex-wrap:wrap;\n",
              "      gap: 12px;\n",
              "    }\n",
              "\n",
              "    .colab-df-convert {\n",
              "      background-color: #E8F0FE;\n",
              "      border: none;\n",
              "      border-radius: 50%;\n",
              "      cursor: pointer;\n",
              "      display: none;\n",
              "      fill: #1967D2;\n",
              "      height: 32px;\n",
              "      padding: 0 0 0 0;\n",
              "      width: 32px;\n",
              "    }\n",
              "\n",
              "    .colab-df-convert:hover {\n",
              "      background-color: #E2EBFA;\n",
              "      box-shadow: 0px 1px 2px rgba(60, 64, 67, 0.3), 0px 1px 3px 1px rgba(60, 64, 67, 0.15);\n",
              "      fill: #174EA6;\n",
              "    }\n",
              "\n",
              "    [theme=dark] .colab-df-convert {\n",
              "      background-color: #3B4455;\n",
              "      fill: #D2E3FC;\n",
              "    }\n",
              "\n",
              "    [theme=dark] .colab-df-convert:hover {\n",
              "      background-color: #434B5C;\n",
              "      box-shadow: 0px 1px 3px 1px rgba(0, 0, 0, 0.15);\n",
              "      filter: drop-shadow(0px 1px 2px rgba(0, 0, 0, 0.3));\n",
              "      fill: #FFFFFF;\n",
              "    }\n",
              "  </style>\n",
              "\n",
              "      <script>\n",
              "        const buttonEl =\n",
              "          document.querySelector('#df-da2bbe96-454e-41e5-8b36-992d5a80e691 button.colab-df-convert');\n",
              "        buttonEl.style.display =\n",
              "          google.colab.kernel.accessAllowed ? 'block' : 'none';\n",
              "\n",
              "        async function convertToInteractive(key) {\n",
              "          const element = document.querySelector('#df-da2bbe96-454e-41e5-8b36-992d5a80e691');\n",
              "          const dataTable =\n",
              "            await google.colab.kernel.invokeFunction('convertToInteractive',\n",
              "                                                     [key], {});\n",
              "          if (!dataTable) return;\n",
              "\n",
              "          const docLinkHtml = 'Like what you see? Visit the ' +\n",
              "            '<a target=\"_blank\" href=https://colab.research.google.com/notebooks/data_table.ipynb>data table notebook</a>'\n",
              "            + ' to learn more about interactive tables.';\n",
              "          element.innerHTML = '';\n",
              "          dataTable['output_type'] = 'display_data';\n",
              "          await google.colab.output.renderOutput(dataTable, element);\n",
              "          const docLink = document.createElement('div');\n",
              "          docLink.innerHTML = docLinkHtml;\n",
              "          element.appendChild(docLink);\n",
              "        }\n",
              "      </script>\n",
              "    </div>\n",
              "  </div>\n",
              "  "
            ]
          },
          "metadata": {},
          "execution_count": 88
        }
      ]
    },
    {
      "cell_type": "markdown",
      "source": [
        "### Qualitative Evaluation"
      ],
      "metadata": {
        "id": "uLT22v9yatAr"
      }
    },
    {
      "cell_type": "code",
      "source": [
        "def model_1_predict(encoder, decoder, input_lang, output_lang, input):\n",
        "    \n",
        "    return evaluate1(encoder, decoder, input_lang, output_lang, input)\n",
        "\n",
        "def model_2_predict(encoder, decoder, input_lang, output_lang, input):\n",
        "    \n",
        "    return evaluate_attn(encoder, decoder, input_lang, output_lang, input)\n",
        "\n",
        "def model_3_predict(encoder, decoder, input_lang, output_lang, input):\n",
        "    # This function should contain the actual prediction code for your third model\n",
        "    return evaluate3(encoder, decoder, input_lang, output_lang, input)\n",
        "\n",
        "def model_4_predict(encoder, decoder, input_lang, output_lang,input):\n",
        "    # This function should contain the actual prediction code for your fourth model\n",
        "    return evaluateconv(encoder, decoder, input_lang, output_lang, input)\n",
        "\n",
        "ingredientsSample1 = \"10 oz chopped broccoli, 2 tbsp butter, 2 tbsp flour, 1/2 tsp salt, 1/4 tsp black pepper, 1/4 tsp ground nutmeg, 1 cup milk, 1 1/2 cups shredded swiss cheese, 2 tsp lemon juice, 2 cup cooked cubed turkey, 4 oz mushrooms, 1/4 cup grated Parmesan cheese, 1 can refrigerated biscuits\"\n",
        "ingredientsSample2 = \"2 lb cream cheese, 1 3/4 cups sugar, 5 eggs, 15 oreo cookies, 1/2 tsp vanilla, 1/2 tsp almond extract\"\n",
        "\n",
        "# Get the predictions\n",
        "predictions = [\n",
        "    [ingredientsSample1, \" \".join(model_1_predict(encoder1, decoder1, input_lang_train, output_lang_train,ingredientsSample1)), \" \".join(model_2_predict(encoder2, decoder2, input_lang_train, output_lang_train,ingredientsSample1)), \" \".join(model_3_predict(encoder3, decoder3, input_lang_train, output_lang_train, ingredientsSample1)), \" \".join(model_4_predict(encoder4, decoder4, input_lang_train, output_lang_train, ingredientsSample1))],\n",
        "    [ingredientsSample2, \" \".join(model_1_predict(encoder1, decoder1, input_lang_train, output_lang_train,ingredientsSample2)), \" \".join(model_2_predict(encoder2, decoder2, input_lang_train, output_lang_train,ingredientsSample2)), \" \".join(model_3_predict(encoder3, decoder3, input_lang_train, output_lang_train, ingredientsSample2)), \" \".join(model_4_predict(encoder4, decoder4, input_lang_train, output_lang_train, ingredientsSample2))]\n",
        "]\n",
        "pd.set_option('display.max_colwidth', None)\n",
        "# Create the DataFrame\n",
        "df = pd.DataFrame(predictions, columns=[\"Ingredients Sample\", \"Baseline 1\", \"Baseline 2\", \"TOP k\", \"Convergence\"])\n",
        "\n",
        "# Print the DataFrame\n",
        "df"
      ],
      "metadata": {
        "colab": {
          "base_uri": "https://localhost:8080/",
          "height": 412
        },
        "id": "wOR6sd46axUW",
        "outputId": "cf16dbf1-2835-4f03-b516-c8a070b09e2e"
      },
      "execution_count": 89,
      "outputs": [
        {
          "output_type": "execute_result",
          "data": {
            "text/plain": [
              "                                                                                                                                                                                                                                                                        Ingredients Sample  \\\n",
              "0  10 oz chopped broccoli, 2 tbsp butter, 2 tbsp flour, 1/2 tsp salt, 1/4 tsp black pepper, 1/4 tsp ground nutmeg, 1 cup milk, 1 1/2 cups shredded swiss cheese, 2 tsp lemon juice, 2 cup cooked cubed turkey, 4 oz mushrooms, 1/4 cup grated Parmesan cheese, 1 can refrigerated biscuits   \n",
              "1                                                                                                                                                                                    2 lb cream cheese, 1 3/4 cups sugar, 5 eggs, 15 oreo cookies, 1/2 tsp vanilla, 1/2 tsp almond extract   \n",
              "\n",
              "                                                                                                                                                                                                                                                                                                                                                                                                                                                                                                                                                                                                                                                                                                                                                                                                                                                                                   Baseline 1  \\\n",
              "0  in a large bowl combine all ingredients and salt in a large bowl combine all ingredients and cook for 5 minutes or until smooth add the remaining ingredients and cook for 5 minutes or until smooth add the remaining ingredients and cook for 5 minutes or until smooth add the remaining ingredients except and cook for 5 minutes or until smooth add the remaining ingredients and cook for 5 minutes or until smooth add the remaining ingredients and cook for 5 minutes or until smooth add the remaining ingredients and cook for 5 minutes or until smooth add the remaining ingredients and cook for 5 minutes or until smooth add the remaining ingredients and cook for 5 minutes or until smooth add the remaining ingredients and cook for 5 minutes or until smooth add the remaining ingredients and cook for 5 minutes or until smooth add the remaining ingredients and   \n",
              "1             in a large bowl combine all ingredients and salt in a large bowl combine all ingredients and cook for 5 minutes or until smooth add the remaining ingredients and cook for 5 minutes or until smooth add the flour and cook for 5 minutes or until smooth add the remaining ingredients and cook for 5 minutes or until smooth add the remaining ingredients and cook for 5 minutes or until smooth add the remaining ingredients and cook for 5 minutes or until smooth add the remaining ingredients and cook for 5 minutes or until smooth add the remaining ingredients and cook for 5 minutes or until smooth add the remaining ingredients and cook for 5 minutes or until smooth add the remaining ingredients and cook for 5 minutes or until smooth add the remaining ingredients and cook for 5 minutes or until smooth add the remaining ingredients except and cook   \n",
              "\n",
              "                                                                                                                                                                                                                                                                                                                                                                                                                                                                                                                                                                                                                                                                                                                                                                                                                                                                                                                                                                     Baseline 2  \\\n",
              "0  fry less less less less less less less less less in a a skewers skewers forming forming forming forming skewers skewers skewers skewers skewers skewers skewers skewers skewers skewers skewers skewers skewers skewers skewers skewers skewers skewers skewers skewers skewers skewers skewers skewers skewers and with zucchini with hot with medallions grant grant grant grant grant grant grant grant grant grant grant grant grant grant grant grant grant grant grant grant grant grant grant grant grant grant grant grant grant grant grant grant grant grant grant grant grant grant grant grant grant grant grant grant grant grant grant grant grant grant grant grant grant grant grant grant grant grant grant grant grant grant grant grant grant grant grant grant grant grant grant grant grant grant grant grant grant grant grant grant grant grant grant grant grant grant grant grant grant grant grant grant grant grant grant grant grant grant grant   \n",
              "1                                                   fry fry 400of 400of 400of 400of 400of 400of 400of 400of 400of and and from 400of 400of 400of with butter with dill surround grant grant grant grant grant grant grant grant grant grant grant grant grant grant grant grant grant grant grant grant grant grant grant grant grant grant grant grant grant grant grant grant grant grant grant grant grant grant grant grant grant grant grant grant grant grant grant grant grant grant grant grant grant grant grant grant grant grant grant grant grant grant grant grant grant grant grant grant grant grant grant grant grant grant grant grant grant grant grant grant grant grant grant grant grant grant grant grant grant grant grant grant grant grant grant grant grant grant grant grant grant grant grant grant grant grant grant grant grant grant grant grant grant grant grant grant grant grant grant grant grant grant grant grant grant grant grant grant   \n",
              "\n",
              "                                                                                                                                                                                                                                                                                                                                             TOP k  \\\n",
              "0                                                                                                                                                 combine all ingredients in a small bowl and let stand for 10 minutes remove from heat and cool completely stir in vanilla and nuts pour into a buttered 8 inch square pan chill until firm <EOS>   \n",
              "1  preheat oven to 350 f grease cookie sheets combine flour baking powder and salt in a small bowl combine flour sugar and baking powder and salt in a large bowl beat egg whites until stiff fold into batter pour into greased and floured 9inch square baking pan bake at 350 for 25 minutes or until cake tests done cool in pan on rack <EOS>   \n",
              "\n",
              "                                                                                                                                                                                           Convergence  \n",
              "0                                                                                                          in a large bowl combine all ingredients and mix well refrigerate until ready to serve <EOS>  \n",
              "1  in a small bowl combine all ingredients except the cheese and mix well pour into a greased and floured 9 x 5 x 2 inch loaf pan bake at 350 degrees for about 45 minutes or until golden brown <EOS>  "
            ],
            "text/html": [
              "\n",
              "  <div id=\"df-866765c6-a6a3-4830-96e1-597d8ce870e0\">\n",
              "    <div class=\"colab-df-container\">\n",
              "      <div>\n",
              "<style scoped>\n",
              "    .dataframe tbody tr th:only-of-type {\n",
              "        vertical-align: middle;\n",
              "    }\n",
              "\n",
              "    .dataframe tbody tr th {\n",
              "        vertical-align: top;\n",
              "    }\n",
              "\n",
              "    .dataframe thead th {\n",
              "        text-align: right;\n",
              "    }\n",
              "</style>\n",
              "<table border=\"1\" class=\"dataframe\">\n",
              "  <thead>\n",
              "    <tr style=\"text-align: right;\">\n",
              "      <th></th>\n",
              "      <th>Ingredients Sample</th>\n",
              "      <th>Baseline 1</th>\n",
              "      <th>Baseline 2</th>\n",
              "      <th>TOP k</th>\n",
              "      <th>Convergence</th>\n",
              "    </tr>\n",
              "  </thead>\n",
              "  <tbody>\n",
              "    <tr>\n",
              "      <th>0</th>\n",
              "      <td>10 oz chopped broccoli, 2 tbsp butter, 2 tbsp flour, 1/2 tsp salt, 1/4 tsp black pepper, 1/4 tsp ground nutmeg, 1 cup milk, 1 1/2 cups shredded swiss cheese, 2 tsp lemon juice, 2 cup cooked cubed turkey, 4 oz mushrooms, 1/4 cup grated Parmesan cheese, 1 can refrigerated biscuits</td>\n",
              "      <td>in a large bowl combine all ingredients and salt in a large bowl combine all ingredients and cook for 5 minutes or until smooth add the remaining ingredients and cook for 5 minutes or until smooth add the remaining ingredients and cook for 5 minutes or until smooth add the remaining ingredients except and cook for 5 minutes or until smooth add the remaining ingredients and cook for 5 minutes or until smooth add the remaining ingredients and cook for 5 minutes or until smooth add the remaining ingredients and cook for 5 minutes or until smooth add the remaining ingredients and cook for 5 minutes or until smooth add the remaining ingredients and cook for 5 minutes or until smooth add the remaining ingredients and cook for 5 minutes or until smooth add the remaining ingredients and cook for 5 minutes or until smooth add the remaining ingredients and</td>\n",
              "      <td>fry less less less less less less less less less in a a skewers skewers forming forming forming forming skewers skewers skewers skewers skewers skewers skewers skewers skewers skewers skewers skewers skewers skewers skewers skewers skewers skewers skewers skewers skewers skewers skewers skewers skewers and with zucchini with hot with medallions grant grant grant grant grant grant grant grant grant grant grant grant grant grant grant grant grant grant grant grant grant grant grant grant grant grant grant grant grant grant grant grant grant grant grant grant grant grant grant grant grant grant grant grant grant grant grant grant grant grant grant grant grant grant grant grant grant grant grant grant grant grant grant grant grant grant grant grant grant grant grant grant grant grant grant grant grant grant grant grant grant grant grant grant grant grant grant grant grant grant grant grant grant grant grant grant grant grant grant</td>\n",
              "      <td>combine all ingredients in a small bowl and let stand for 10 minutes remove from heat and cool completely stir in vanilla and nuts pour into a buttered 8 inch square pan chill until firm &lt;EOS&gt;</td>\n",
              "      <td>in a large bowl combine all ingredients and mix well refrigerate until ready to serve &lt;EOS&gt;</td>\n",
              "    </tr>\n",
              "    <tr>\n",
              "      <th>1</th>\n",
              "      <td>2 lb cream cheese, 1 3/4 cups sugar, 5 eggs, 15 oreo cookies, 1/2 tsp vanilla, 1/2 tsp almond extract</td>\n",
              "      <td>in a large bowl combine all ingredients and salt in a large bowl combine all ingredients and cook for 5 minutes or until smooth add the remaining ingredients and cook for 5 minutes or until smooth add the flour and cook for 5 minutes or until smooth add the remaining ingredients and cook for 5 minutes or until smooth add the remaining ingredients and cook for 5 minutes or until smooth add the remaining ingredients and cook for 5 minutes or until smooth add the remaining ingredients and cook for 5 minutes or until smooth add the remaining ingredients and cook for 5 minutes or until smooth add the remaining ingredients and cook for 5 minutes or until smooth add the remaining ingredients and cook for 5 minutes or until smooth add the remaining ingredients and cook for 5 minutes or until smooth add the remaining ingredients except and cook</td>\n",
              "      <td>fry fry 400of 400of 400of 400of 400of 400of 400of 400of 400of and and from 400of 400of 400of with butter with dill surround grant grant grant grant grant grant grant grant grant grant grant grant grant grant grant grant grant grant grant grant grant grant grant grant grant grant grant grant grant grant grant grant grant grant grant grant grant grant grant grant grant grant grant grant grant grant grant grant grant grant grant grant grant grant grant grant grant grant grant grant grant grant grant grant grant grant grant grant grant grant grant grant grant grant grant grant grant grant grant grant grant grant grant grant grant grant grant grant grant grant grant grant grant grant grant grant grant grant grant grant grant grant grant grant grant grant grant grant grant grant grant grant grant grant grant grant grant grant grant grant grant grant grant grant grant grant grant grant</td>\n",
              "      <td>preheat oven to 350 f grease cookie sheets combine flour baking powder and salt in a small bowl combine flour sugar and baking powder and salt in a large bowl beat egg whites until stiff fold into batter pour into greased and floured 9inch square baking pan bake at 350 for 25 minutes or until cake tests done cool in pan on rack &lt;EOS&gt;</td>\n",
              "      <td>in a small bowl combine all ingredients except the cheese and mix well pour into a greased and floured 9 x 5 x 2 inch loaf pan bake at 350 degrees for about 45 minutes or until golden brown &lt;EOS&gt;</td>\n",
              "    </tr>\n",
              "  </tbody>\n",
              "</table>\n",
              "</div>\n",
              "      <button class=\"colab-df-convert\" onclick=\"convertToInteractive('df-866765c6-a6a3-4830-96e1-597d8ce870e0')\"\n",
              "              title=\"Convert this dataframe to an interactive table.\"\n",
              "              style=\"display:none;\">\n",
              "        \n",
              "  <svg xmlns=\"http://www.w3.org/2000/svg\" height=\"24px\"viewBox=\"0 0 24 24\"\n",
              "       width=\"24px\">\n",
              "    <path d=\"M0 0h24v24H0V0z\" fill=\"none\"/>\n",
              "    <path d=\"M18.56 5.44l.94 2.06.94-2.06 2.06-.94-2.06-.94-.94-2.06-.94 2.06-2.06.94zm-11 1L8.5 8.5l.94-2.06 2.06-.94-2.06-.94L8.5 2.5l-.94 2.06-2.06.94zm10 10l.94 2.06.94-2.06 2.06-.94-2.06-.94-.94-2.06-.94 2.06-2.06.94z\"/><path d=\"M17.41 7.96l-1.37-1.37c-.4-.4-.92-.59-1.43-.59-.52 0-1.04.2-1.43.59L10.3 9.45l-7.72 7.72c-.78.78-.78 2.05 0 2.83L4 21.41c.39.39.9.59 1.41.59.51 0 1.02-.2 1.41-.59l7.78-7.78 2.81-2.81c.8-.78.8-2.07 0-2.86zM5.41 20L4 18.59l7.72-7.72 1.47 1.35L5.41 20z\"/>\n",
              "  </svg>\n",
              "      </button>\n",
              "      \n",
              "  <style>\n",
              "    .colab-df-container {\n",
              "      display:flex;\n",
              "      flex-wrap:wrap;\n",
              "      gap: 12px;\n",
              "    }\n",
              "\n",
              "    .colab-df-convert {\n",
              "      background-color: #E8F0FE;\n",
              "      border: none;\n",
              "      border-radius: 50%;\n",
              "      cursor: pointer;\n",
              "      display: none;\n",
              "      fill: #1967D2;\n",
              "      height: 32px;\n",
              "      padding: 0 0 0 0;\n",
              "      width: 32px;\n",
              "    }\n",
              "\n",
              "    .colab-df-convert:hover {\n",
              "      background-color: #E2EBFA;\n",
              "      box-shadow: 0px 1px 2px rgba(60, 64, 67, 0.3), 0px 1px 3px 1px rgba(60, 64, 67, 0.15);\n",
              "      fill: #174EA6;\n",
              "    }\n",
              "\n",
              "    [theme=dark] .colab-df-convert {\n",
              "      background-color: #3B4455;\n",
              "      fill: #D2E3FC;\n",
              "    }\n",
              "\n",
              "    [theme=dark] .colab-df-convert:hover {\n",
              "      background-color: #434B5C;\n",
              "      box-shadow: 0px 1px 3px 1px rgba(0, 0, 0, 0.15);\n",
              "      filter: drop-shadow(0px 1px 2px rgba(0, 0, 0, 0.3));\n",
              "      fill: #FFFFFF;\n",
              "    }\n",
              "  </style>\n",
              "\n",
              "      <script>\n",
              "        const buttonEl =\n",
              "          document.querySelector('#df-866765c6-a6a3-4830-96e1-597d8ce870e0 button.colab-df-convert');\n",
              "        buttonEl.style.display =\n",
              "          google.colab.kernel.accessAllowed ? 'block' : 'none';\n",
              "\n",
              "        async function convertToInteractive(key) {\n",
              "          const element = document.querySelector('#df-866765c6-a6a3-4830-96e1-597d8ce870e0');\n",
              "          const dataTable =\n",
              "            await google.colab.kernel.invokeFunction('convertToInteractive',\n",
              "                                                     [key], {});\n",
              "          if (!dataTable) return;\n",
              "\n",
              "          const docLinkHtml = 'Like what you see? Visit the ' +\n",
              "            '<a target=\"_blank\" href=https://colab.research.google.com/notebooks/data_table.ipynb>data table notebook</a>'\n",
              "            + ' to learn more about interactive tables.';\n",
              "          element.innerHTML = '';\n",
              "          dataTable['output_type'] = 'display_data';\n",
              "          await google.colab.output.renderOutput(dataTable, element);\n",
              "          const docLink = document.createElement('div');\n",
              "          docLink.innerHTML = docLinkHtml;\n",
              "          element.appendChild(docLink);\n",
              "        }\n",
              "      </script>\n",
              "    </div>\n",
              "  </div>\n",
              "  "
            ]
          },
          "metadata": {},
          "execution_count": 89
        }
      ]
    },
    {
      "cell_type": "code",
      "source": [],
      "metadata": {
        "id": "sNDsye5xa1xI"
      },
      "execution_count": null,
      "outputs": []
    }
  ],
  "metadata": {
    "accelerator": "GPU",
    "colab": {
      "provenance": [],
      "machine_shape": "hm",
      "gpuType": "T4"
    },
    "gpuClass": "standard",
    "kernelspec": {
      "display_name": "Python 3",
      "name": "python3"
    },
    "language_info": {
      "name": "python"
    }
  },
  "nbformat": 4,
  "nbformat_minor": 0
}